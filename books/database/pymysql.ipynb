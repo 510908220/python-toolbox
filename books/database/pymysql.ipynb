{
 "cells": [
  {
   "cell_type": "markdown",
   "metadata": {},
   "source": [
    "# [pymysql](https://github.com/PyMySQL/PyMySQL)使用\n",
    "\n",
    "- 安装\n",
    "- 准备\n",
    "- 基本使用(表创建、删除、增删改查)\n",
    "- 高级使用(commit\\rollback)\n",
    "- 扩展\n",
    "\n",
    "    "
   ]
  },
  {
   "cell_type": "markdown",
   "metadata": {},
   "source": [
    "## 安装\n",
    "> 为了将数据库以表格显示,这里会使用`pandas`"
   ]
  },
  {
   "cell_type": "code",
   "execution_count": 2,
   "metadata": {},
   "outputs": [
    {
     "name": "stdout",
     "output_type": "stream",
     "text": [
      "Requirement already satisfied (use --upgrade to upgrade): PyMySQL in /usr/local/lib/python3.6/site-packages\n",
      "Requirement already satisfied (use --upgrade to upgrade): pandas in /usr/local/lib/python3.6/site-packages\n",
      "Requirement already satisfied (use --upgrade to upgrade): python-dateutil>=2 in /usr/local/lib/python3.6/site-packages (from pandas)\n",
      "Requirement already satisfied (use --upgrade to upgrade): numpy>=1.7.0 in /usr/local/lib/python3.6/site-packages (from pandas)\n",
      "Requirement already satisfied (use --upgrade to upgrade): pytz>=2011k in /usr/local/lib/python3.6/site-packages (from pandas)\n",
      "Requirement already satisfied (use --upgrade to upgrade): six>=1.5 in /usr/local/lib/python3.6/site-packages (from python-dateutil>=2->pandas)\n",
      "\u001b[33mYou are using pip version 8.1.2, however version 9.0.1 is available.\n",
      "You should consider upgrading via the 'pip install --upgrade pip' command.\u001b[0m\n"
     ]
    }
   ],
   "source": [
    "!pip install PyMySQL  pandas"
   ]
  },
  {
   "cell_type": "markdown",
   "metadata": {},
   "source": [
    "## 准备\n",
    "\n",
    "加载`util.py`模块"
   ]
  },
  {
   "cell_type": "code",
   "execution_count": 29,
   "metadata": {
    "collapsed": true
   },
   "outputs": [],
   "source": [
    "# %load util.py\n",
    "from IPython.display import display\n",
    "import pandas as pd\n",
    "import pymysql.cursors\n",
    "from collections import defaultdict\n",
    "\n",
    "\n",
    "def print_table():\n",
    "    db_result = []\n",
    "    try:\n",
    "        connection = get_connection()\n",
    "        with connection.cursor() as cursor:\n",
    "            # Read a single record\n",
    "            sql = \"SELECT * FROM `auth_user` \"\n",
    "            cursor.execute(sql)\n",
    "            db_result = cursor.fetchall()\n",
    "    finally:\n",
    "        connection.close()\n",
    "    \n",
    "    if not db_result:\n",
    "        return\n",
    "    if isinstance(db_result, dict):\n",
    "        db_result = [db_result]\n",
    "    data = defaultdict(list)\n",
    "    for item in db_result:\n",
    "        for key in item:\n",
    "            data[key].append(item[key])\n",
    "    df = pd.DataFrame(data)\n",
    "    display(df)\n",
    "\n",
    "def get_connection():\n",
    "    connection = pymysql.connect(host='192.168.0.88',\n",
    "                           user='root',\n",
    "                           password='letmegoletmego',\n",
    "                           db='db',\n",
    "                           port=32768,\n",
    "                           charset='utf8mb4',\n",
    "                           cursorclass=pymysql.cursors.DictCursor)\n",
    "    return connection\n",
    "\n",
    "\n",
    "def reset_table():\n",
    "    connection = get_connection()\n",
    "    table_sql = '''\n",
    "DROP TABLE IF EXISTS `auth_user`;\n",
    "CREATE TABLE `auth_user` (\n",
    "  `id` int(11) NOT NULL AUTO_INCREMENT,\n",
    "  `password` varchar(128) NOT NULL,\n",
    "  `last_login` datetime DEFAULT NULL,\n",
    "  `is_superuser` tinyint(1) NOT NULL,\n",
    "  `username` varchar(150) NOT NULL,\n",
    "  PRIMARY KEY (`id`),\n",
    "  UNIQUE KEY `username` (`username`)\n",
    ") ENGINE=InnoDB DEFAULT CHARSET=utf8;\n",
    "'''\n",
    "\n",
    "    try:\n",
    "        with connection.cursor() as cursor:\n",
    "            cursor.execute(table_sql)\n",
    "        connection.commit()\n",
    "    finally:\n",
    "        connection.close()"
   ]
  },
  {
   "cell_type": "code",
   "execution_count": 30,
   "metadata": {
    "collapsed": true
   },
   "outputs": [],
   "source": [
    "    reset_table() # 重置表(删除，创建)"
   ]
  },
  {
   "cell_type": "markdown",
   "metadata": {},
   "source": [
    "## 基本操作"
   ]
  },
  {
   "cell_type": "markdown",
   "metadata": {},
   "source": [
    "#### 数据插入"
   ]
  },
  {
   "cell_type": "code",
   "execution_count": 31,
   "metadata": {},
   "outputs": [
    {
     "data": {
      "text/html": [
       "<div>\n",
       "<style>\n",
       "    .dataframe thead tr:only-child th {\n",
       "        text-align: right;\n",
       "    }\n",
       "\n",
       "    .dataframe thead th {\n",
       "        text-align: left;\n",
       "    }\n",
       "\n",
       "    .dataframe tbody tr th {\n",
       "        vertical-align: top;\n",
       "    }\n",
       "</style>\n",
       "<table border=\"1\" class=\"dataframe\">\n",
       "  <thead>\n",
       "    <tr style=\"text-align: right;\">\n",
       "      <th></th>\n",
       "      <th>id</th>\n",
       "      <th>is_superuser</th>\n",
       "      <th>last_login</th>\n",
       "      <th>password</th>\n",
       "      <th>username</th>\n",
       "    </tr>\n",
       "  </thead>\n",
       "  <tbody>\n",
       "    <tr>\n",
       "      <th>0</th>\n",
       "      <td>1</td>\n",
       "      <td>1</td>\n",
       "      <td>2017-06-21</td>\n",
       "      <td>66666</td>\n",
       "      <td>郭靖</td>\n",
       "    </tr>\n",
       "    <tr>\n",
       "      <th>1</th>\n",
       "      <td>2</td>\n",
       "      <td>0</td>\n",
       "      <td>2017-06-22</td>\n",
       "      <td>77777</td>\n",
       "      <td>黄蓉</td>\n",
       "    </tr>\n",
       "    <tr>\n",
       "      <th>2</th>\n",
       "      <td>3</td>\n",
       "      <td>1</td>\n",
       "      <td>2017-06-25</td>\n",
       "      <td>88888</td>\n",
       "      <td>郭襄</td>\n",
       "    </tr>\n",
       "  </tbody>\n",
       "</table>\n",
       "</div>"
      ],
      "text/plain": [
       "   id  is_superuser last_login password username\n",
       "0   1             1 2017-06-21    66666       郭靖\n",
       "1   2             0 2017-06-22    77777       黄蓉\n",
       "2   3             1 2017-06-25    88888       郭襄"
      ]
     },
     "metadata": {},
     "output_type": "display_data"
    }
   ],
   "source": [
    "try:\n",
    "    connection = get_connection()\n",
    "    with connection.cursor() as cursor:\n",
    "        # Create a new record\n",
    "        sql = \"INSERT INTO `auth_user` (`username`, `password`,`is_superuser`,`last_login`) VALUES (%s, %s,%s,%s)\"\n",
    "        cursor.execute(sql, ('郭靖', '66666',1,'2017-6-21'))\n",
    "        cursor.execute(sql, ('黄蓉', '77777',0,'2017-6-22'))\n",
    "        cursor.execute(sql, ('郭襄', '88888',1,'2017-6-25'))\n",
    "    connection.commit()\n",
    "finally:\n",
    "    connection.close()\n",
    "    print_table()\n"
   ]
  },
  {
   "cell_type": "markdown",
   "metadata": {},
   "source": [
    "#### 修改"
   ]
  },
  {
   "cell_type": "code",
   "execution_count": 32,
   "metadata": {},
   "outputs": [
    {
     "data": {
      "text/html": [
       "<div>\n",
       "<style>\n",
       "    .dataframe thead tr:only-child th {\n",
       "        text-align: right;\n",
       "    }\n",
       "\n",
       "    .dataframe thead th {\n",
       "        text-align: left;\n",
       "    }\n",
       "\n",
       "    .dataframe tbody tr th {\n",
       "        vertical-align: top;\n",
       "    }\n",
       "</style>\n",
       "<table border=\"1\" class=\"dataframe\">\n",
       "  <thead>\n",
       "    <tr style=\"text-align: right;\">\n",
       "      <th></th>\n",
       "      <th>id</th>\n",
       "      <th>is_superuser</th>\n",
       "      <th>last_login</th>\n",
       "      <th>password</th>\n",
       "      <th>username</th>\n",
       "    </tr>\n",
       "  </thead>\n",
       "  <tbody>\n",
       "    <tr>\n",
       "      <th>0</th>\n",
       "      <td>1</td>\n",
       "      <td>1</td>\n",
       "      <td>2017-06-21</td>\n",
       "      <td>66666_XXX</td>\n",
       "      <td>郭靖</td>\n",
       "    </tr>\n",
       "    <tr>\n",
       "      <th>1</th>\n",
       "      <td>2</td>\n",
       "      <td>0</td>\n",
       "      <td>2017-06-22</td>\n",
       "      <td>77777_XXX</td>\n",
       "      <td>黄蓉</td>\n",
       "    </tr>\n",
       "    <tr>\n",
       "      <th>2</th>\n",
       "      <td>3</td>\n",
       "      <td>1</td>\n",
       "      <td>2017-06-25</td>\n",
       "      <td>88888_XXX</td>\n",
       "      <td>郭襄</td>\n",
       "    </tr>\n",
       "  </tbody>\n",
       "</table>\n",
       "</div>"
      ],
      "text/plain": [
       "   id  is_superuser last_login   password username\n",
       "0   1             1 2017-06-21  66666_XXX       郭靖\n",
       "1   2             0 2017-06-22  77777_XXX       黄蓉\n",
       "2   3             1 2017-06-25  88888_XXX       郭襄"
      ]
     },
     "metadata": {},
     "output_type": "display_data"
    }
   ],
   "source": [
    "try:\n",
    "    connection = get_connection()\n",
    "    with connection.cursor() as cursor:\n",
    "        # Create a new record\n",
    "        sql = \"UPDATE `auth_user` SET password = %s WHERE username = %s\"\n",
    "        cursor.execute(sql, ( '66666_XXX','郭靖'))\n",
    "        cursor.execute(sql, ('77777_XXX','黄蓉'))\n",
    "        cursor.execute(sql, ( '88888_XXX','郭襄'))\n",
    "    connection.commit()\n",
    "finally:\n",
    "    connection.close()\n",
    "    print_table()"
   ]
  },
  {
   "cell_type": "markdown",
   "metadata": {},
   "source": [
    "#### 删除"
   ]
  },
  {
   "cell_type": "code",
   "execution_count": 33,
   "metadata": {},
   "outputs": [
    {
     "data": {
      "text/html": [
       "<div>\n",
       "<style>\n",
       "    .dataframe thead tr:only-child th {\n",
       "        text-align: right;\n",
       "    }\n",
       "\n",
       "    .dataframe thead th {\n",
       "        text-align: left;\n",
       "    }\n",
       "\n",
       "    .dataframe tbody tr th {\n",
       "        vertical-align: top;\n",
       "    }\n",
       "</style>\n",
       "<table border=\"1\" class=\"dataframe\">\n",
       "  <thead>\n",
       "    <tr style=\"text-align: right;\">\n",
       "      <th></th>\n",
       "      <th>id</th>\n",
       "      <th>is_superuser</th>\n",
       "      <th>last_login</th>\n",
       "      <th>password</th>\n",
       "      <th>username</th>\n",
       "    </tr>\n",
       "  </thead>\n",
       "  <tbody>\n",
       "    <tr>\n",
       "      <th>0</th>\n",
       "      <td>2</td>\n",
       "      <td>0</td>\n",
       "      <td>2017-06-22</td>\n",
       "      <td>77777_XXX</td>\n",
       "      <td>黄蓉</td>\n",
       "    </tr>\n",
       "    <tr>\n",
       "      <th>1</th>\n",
       "      <td>3</td>\n",
       "      <td>1</td>\n",
       "      <td>2017-06-25</td>\n",
       "      <td>88888_XXX</td>\n",
       "      <td>郭襄</td>\n",
       "    </tr>\n",
       "  </tbody>\n",
       "</table>\n",
       "</div>"
      ],
      "text/plain": [
       "   id  is_superuser last_login   password username\n",
       "0   2             0 2017-06-22  77777_XXX       黄蓉\n",
       "1   3             1 2017-06-25  88888_XXX       郭襄"
      ]
     },
     "metadata": {},
     "output_type": "display_data"
    }
   ],
   "source": [
    "try:\n",
    "    connection = get_connection()\n",
    "    with connection.cursor() as cursor:\n",
    "        # Create a new record\n",
    "        sql = \"DELETE from  `auth_user`  WHERE username = %s\"\n",
    "        cursor.execute(sql, ( '郭靖'))\n",
    "    connection.commit()\n",
    "finally:\n",
    "    connection.close()\n",
    "    print_table()"
   ]
  },
  {
   "cell_type": "markdown",
   "metadata": {},
   "source": [
    "## 高级使用\n",
    "> 主要看一下`commit`和`rollback`的使用.\n"
   ]
  },
  {
   "cell_type": "code",
   "execution_count": 44,
   "metadata": {},
   "outputs": [
    {
     "name": "stdout",
     "output_type": "stream",
     "text": [
      "(1366, \"Incorrect integer value: 'xxx' for column 'is_superuser' at row 1\")\n"
     ]
    },
    {
     "data": {
      "text/html": [
       "<div>\n",
       "<style>\n",
       "    .dataframe thead tr:only-child th {\n",
       "        text-align: right;\n",
       "    }\n",
       "\n",
       "    .dataframe thead th {\n",
       "        text-align: left;\n",
       "    }\n",
       "\n",
       "    .dataframe tbody tr th {\n",
       "        vertical-align: top;\n",
       "    }\n",
       "</style>\n",
       "<table border=\"1\" class=\"dataframe\">\n",
       "  <thead>\n",
       "    <tr style=\"text-align: right;\">\n",
       "      <th></th>\n",
       "      <th>id</th>\n",
       "      <th>is_superuser</th>\n",
       "      <th>last_login</th>\n",
       "      <th>password</th>\n",
       "      <th>username</th>\n",
       "    </tr>\n",
       "  </thead>\n",
       "  <tbody>\n",
       "    <tr>\n",
       "      <th>0</th>\n",
       "      <td>1</td>\n",
       "      <td>1</td>\n",
       "      <td>2017-06-21</td>\n",
       "      <td>66666</td>\n",
       "      <td>郭靖</td>\n",
       "    </tr>\n",
       "  </tbody>\n",
       "</table>\n",
       "</div>"
      ],
      "text/plain": [
       "   id  is_superuser last_login password username\n",
       "0   1             1 2017-06-21    66666       郭靖"
      ]
     },
     "metadata": {},
     "output_type": "display_data"
    }
   ],
   "source": [
    "try:\n",
    "    reset_table()\n",
    "    connection = get_connection()\n",
    "    with connection.cursor() as cursor:\n",
    "        # Create a new record\n",
    "        sql = \"INSERT INTO `auth_user` (`username`, `password`,`is_superuser`,`last_login`) VALUES (%s, %s,%s,%s)\"\n",
    "        cursor.execute(sql, ('郭靖', '66666',1,'2017-6-21'))\n",
    "        cursor.execute(sql, ('黄蓉', '77777','xxx','2017-6-22'))\n",
    "        cursor.execute(sql, ('郭襄', '88888',1,'2017-6-25'))\n",
    "    connection.commit()\n",
    "except Exception as e:\n",
    "    print(e)\n",
    "    #connection.rollback()\n",
    "finally:\n",
    "    connection.commit()\n",
    "    connection.close()\n",
    "    print_table()"
   ]
  },
  {
   "cell_type": "markdown",
   "metadata": {},
   "source": [
    "首先说明一下, 当执行 **commit** 或 **ROLLBACK**后，放在回滚段中的数据就会被删除. \n",
    "- 上面第一条插入语句正确,进入回滚段里,第二条插入语句错误,抛出异常,最后调用**commit**将数据提交. \n",
    "- 如果在异常时执行`connection.rollback()`,则最后结果为空."
   ]
  },
  {
   "cell_type": "markdown",
   "metadata": {},
   "source": [
    "## 扩展\n",
    "> 封装pymysql，使操作更简单.代办.."
   ]
  }
 ],
 "metadata": {
  "kernelspec": {
   "display_name": "Python 3",
   "language": "python",
   "name": "python3"
  },
  "language_info": {
   "codemirror_mode": {
    "name": "ipython",
    "version": 3
   },
   "file_extension": ".py",
   "mimetype": "text/x-python",
   "name": "python",
   "nbconvert_exporter": "python",
   "pygments_lexer": "ipython3",
   "version": "3.6.1"
  }
 },
 "nbformat": 4,
 "nbformat_minor": 2
}
