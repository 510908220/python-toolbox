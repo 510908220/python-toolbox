{
 "cells": [
  {
   "cell_type": "markdown",
   "metadata": {},
   "source": [
    "# [pymysql](https://github.com/PyMySQL/PyMySQL)使用\n",
    "\n",
    "- 安装\n",
    "- 基本使用(表创建、删除、增删改查)\n",
    "- 高级使用(commit\\rollback)\n",
    "- 数据库理论:http://blog.sina.com.cn/s/blog_60407be101017vnp.html\n",
    "- 例子:\n",
    "    - https://stackoverflow.com/questions/38378844/pymysql-rollback-after-executing-multiple-statements\n",
    "    - https://www.douban.com/group/topic/78612451/\n",
    "    "
   ]
  },
  {
   "cell_type": "markdown",
   "metadata": {},
   "source": [
    "## 安装"
   ]
  },
  {
   "cell_type": "code",
   "execution_count": 1,
   "metadata": {},
   "outputs": [
    {
     "name": "stdout",
     "output_type": "stream",
     "text": [
      "Requirement already satisfied (use --upgrade to upgrade): PyMySQL in /usr/local/lib/python3.6/site-packages\n",
      "\u001b[33mYou are using pip version 8.1.2, however version 9.0.1 is available.\n",
      "You should consider upgrading via the 'pip install --upgrade pip' command.\u001b[0m\n"
     ]
    }
   ],
   "source": [
    "!pip install PyMySQL"
   ]
  },
  {
   "cell_type": "markdown",
   "metadata": {},
   "source": [
    "## 基本使用"
   ]
  },
  {
   "cell_type": "code",
   "execution_count": 3,
   "metadata": {},
   "outputs": [],
   "source": [
    "import pymysql.cursors\n",
    "connection = pymysql.connect(host='192.168.0.88',\n",
    "                             user='root',\n",
    "                             password='letmegoletmego',\n",
    "                             db='db',\n",
    "                             port=32768,\n",
    "                             charset='utf8mb4b',\n",
    "                             cursorclass=pymysql.cursors.DictCursor)\n",
    "table_sql = '''\n",
    "CREATE TABLE `auth_user` (\n",
    "  `id` int(11) NOT NULL AUTO_INCREMENT,\n",
    "  `password` varchar(128) NOT NULL,\n",
    "  `last_login` datetime DEFAULT NULL,\n",
    "  `is_superuser` tinyint(1) NOT NULL,\n",
    "  `username` varchar(150) NOT NULL,\n",
    "  `first_name` varchar(30) NOT NULL,\n",
    "  `last_name` varchar(30) NOT NULL,\n",
    "  `email` varchar(254) NOT NULL,\n",
    "  `is_staff` tinyint(1) NOT NULL,\n",
    "  `is_active` tinyint(1) NOT NULL,\n",
    "  `date_joined` datetime NOT NULL,\n",
    "  PRIMARY KEY (`id`),\n",
    "  UNIQUE KEY `username` (`username`)\n",
    ") ENGINE=InnoDB AUTO_INCREMENT=1 DEFAULT CHARSET=utf8;\n",
    "'''\n",
    "\n",
    "try:\n",
    "    with connection.cursor() as cursor:\n",
    "        cursor.execute(table_sql)\n",
    "    connection.commit()\n",
    "finally:\n",
    "    connection.close()\n"
   ]
  },
  {
   "cell_type": "code",
   "execution_count": 5,
   "metadata": {},
   "outputs": [
    {
     "ename": "IndentationError",
     "evalue": "unexpected indent (<ipython-input-5-750c61f9f41d>, line 3)",
     "output_type": "error",
     "traceback": [
      "\u001b[0;36m  File \u001b[0;32m\"<ipython-input-5-750c61f9f41d>\"\u001b[0;36m, line \u001b[0;32m3\u001b[0m\n\u001b[0;31m    data = [[1,2,3],\u001b[0m\n\u001b[0m    ^\u001b[0m\n\u001b[0;31mIndentationError\u001b[0m\u001b[0;31m:\u001b[0m unexpected indent\n"
     ]
    }
   ],
   "source": [
    "from IPython.display import HTML, display\n",
    "\n",
    "data = [[1,2,3],\n",
    "     [4,5,6],\n",
    "     [7,8,9],\n",
    "     ]\n",
    "\n",
    "display(HTML(\n",
    "'<table><tr>{}</tr></table>'.format(\n",
    "    '</tr><tr>'.join(\n",
    "        '<td>{}</td>'.format('</td><td>'.join(str(_) for _ in row)) for row in data)\n",
    "    )\n",
    "))"
   ]
  }
 ],
 "metadata": {
  "kernelspec": {
   "display_name": "Python 3",
   "language": "python",
   "name": "python3"
  },
  "language_info": {
   "codemirror_mode": {
    "name": "ipython",
    "version": 3
   },
   "file_extension": ".py",
   "mimetype": "text/x-python",
   "name": "python",
   "nbconvert_exporter": "python",
   "pygments_lexer": "ipython3",
   "version": "3.6.1"
  }
 },
 "nbformat": 4,
 "nbformat_minor": 2
}
