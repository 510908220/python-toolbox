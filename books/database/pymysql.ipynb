{
 "cells": [
  {
   "cell_type": "markdown",
   "metadata": {},
   "source": [
    "# [pymysql](https://github.com/PyMySQL/PyMySQL)使用\n",
    "\n",
    "- 安装\n",
    "- 基本使用(表创建、删除、增删改查)\n",
    "- 高级使用(commit\\rollback)\n",
    "- 数据库理论:http://blog.sina.com.cn/s/blog_60407be101017vnp.html\n",
    "- 例子:\n",
    "    - https://stackoverflow.com/questions/38378844/pymysql-rollback-after-executing-multiple-statements\n",
    "    - https://www.douban.com/group/topic/78612451/\n",
    "    "
   ]
  },
  {
   "cell_type": "markdown",
   "metadata": {},
   "source": [
    "## 安装"
   ]
  },
  {
   "cell_type": "code",
   "execution_count": 7,
   "metadata": {},
   "outputs": [
    {
     "name": "stdout",
     "output_type": "stream",
     "text": [
      "Requirement already satisfied (use --upgrade to upgrade): PyMySQL in /usr/local/lib/python3.6/site-packages\n",
      "Collecting qgrid\n",
      "  Downloading http://mirrors.aliyun.com/pypi/packages/e6/bd/b826df322ffb3b315ceb01d1d13710d83854b4dee34026828db26cbbe3ec/qgrid-0.3.3.tar.gz (71kB)\n",
      "\u001b[K    100% |████████████████████████████████| 81kB 947kB/s ta 0:00:011\n",
      "\u001b[?25hRequirement already satisfied (use --upgrade to upgrade): notebook>=4.0.0 in /usr/local/lib/python3.6/site-packages (from qgrid)\n",
      "Collecting pandas>=0.16.2 (from qgrid)\n",
      "  Downloading http://mirrors.aliyun.com/pypi/packages/2d/e2/5f3e28995c3464eeec9b4fbfb32c2d876d14295559682d1a769cc8b63890/pandas-0.20.2-cp36-cp36m-manylinux1_x86_64.whl (24.5MB)\n",
      "\u001b[K    100% |████████████████████████████████| 24.5MB 2.2MB/s ta 0:00:011 1% |▌                               | 399kB 680kB/s eta 0:00:36    4% |█▍                              | 1.0MB 442kB/s eta 0:00:53    8% |██▋                             | 2.0MB 1.8MB/s eta 0:00:13    12% |████                            | 3.1MB 1.1MB/s eta 0:00:19    16% |█████▏                          | 3.9MB 1.6MB/s eta 0:00:13    19% |██████▍                         | 4.9MB 1.6MB/s eta 0:00:13    21% |███████                         | 5.3MB 427kB/s eta 0:00:45    31% |██████████                      | 7.7MB 1.2MB/s eta 0:00:15    34% |███████████▏                    | 8.5MB 1.5MB/s eta 0:00:11    36% |███████████▊                    | 9.0MB 1.6MB/s eta 0:00:10    37% |████████████▏                   | 9.3MB 1.1MB/s eta 0:00:14    44% |██████████████▎                 | 10.9MB 1.2MB/s eta 0:00:12    45% |██████████████▌                 | 11.1MB 575kB/s eta 0:00:24    50% |████████████████                | 12.3MB 381kB/s eta 0:00:32    62% |████████████████████            | 15.3MB 679kB/s eta 0:00:14    80% |█████████████████████████▊      | 19.7MB 527kB/s eta 0:00:10    85% |███████████████████████████▍    | 20.9MB 530kB/s eta 0:00:07    87% |████████████████████████████    | 21.4MB 3.8MB/s eta 0:00:01    88% |████████████████████████████▏   | 21.5MB 2.3MB/s eta 0:00:02    93% |██████████████████████████████  | 22.9MB 553kB/s eta 0:00:03\n",
      "\u001b[?25hRequirement already satisfied (use --upgrade to upgrade): ipywidgets>=4.0.0 in /usr/local/lib/python3.6/site-packages (from qgrid)\n",
      "Requirement already satisfied (use --upgrade to upgrade): ipython-genutils in /usr/local/lib/python3.6/site-packages (from notebook>=4.0.0->qgrid)\n",
      "Requirement already satisfied (use --upgrade to upgrade): nbformat in /usr/local/lib/python3.6/site-packages (from notebook>=4.0.0->qgrid)\n",
      "Requirement already satisfied (use --upgrade to upgrade): tornado>=4 in /usr/local/lib/python3.6/site-packages (from notebook>=4.0.0->qgrid)\n",
      "Requirement already satisfied (use --upgrade to upgrade): ipykernel in /usr/local/lib/python3.6/site-packages (from notebook>=4.0.0->qgrid)\n",
      "Requirement already satisfied (use --upgrade to upgrade): nbconvert in /usr/local/lib/python3.6/site-packages (from notebook>=4.0.0->qgrid)\n",
      "Requirement already satisfied (use --upgrade to upgrade): terminado>=0.3.3; sys_platform != \"win32\" in /usr/local/lib/python3.6/site-packages (from notebook>=4.0.0->qgrid)\n",
      "Requirement already satisfied (use --upgrade to upgrade): jinja2 in /usr/local/lib/python3.6/site-packages (from notebook>=4.0.0->qgrid)\n",
      "Requirement already satisfied (use --upgrade to upgrade): traitlets>=4.2.1 in /usr/local/lib/python3.6/site-packages (from notebook>=4.0.0->qgrid)\n",
      "Requirement already satisfied (use --upgrade to upgrade): jupyter-client in /usr/local/lib/python3.6/site-packages (from notebook>=4.0.0->qgrid)\n",
      "Requirement already satisfied (use --upgrade to upgrade): jupyter-core in /usr/local/lib/python3.6/site-packages (from notebook>=4.0.0->qgrid)\n",
      "Requirement already satisfied (use --upgrade to upgrade): pytz>=2011k in /usr/local/lib/python3.6/site-packages (from pandas>=0.16.2->qgrid)\n",
      "Requirement already satisfied (use --upgrade to upgrade): python-dateutil>=2 in /usr/local/lib/python3.6/site-packages (from pandas>=0.16.2->qgrid)\n",
      "Collecting numpy>=1.7.0 (from pandas>=0.16.2->qgrid)\n",
      "  Downloading http://mirrors.aliyun.com/pypi/packages/f8/ce/70cbaf09bdba60b624bb609fa53f7c4e2a0ea4b3c24132e934274d596121/numpy-1.13.0-cp36-cp36m-manylinux1_x86_64.whl (17.0MB)\n",
      "\u001b[K    100% |████████████████████████████████| 17.0MB 1.5MB/s ta 0:00:011  5% |██                              | 1.0MB 1.6MB/s eta 0:00:11    12% |████                            | 2.1MB 548kB/s eta 0:00:28    14% |████▉                           | 2.5MB 1.7MB/s eta 0:00:09    21% |███████                         | 3.7MB 525kB/s eta 0:00:26    33% |██████████▋                     | 5.7MB 604kB/s eta 0:00:19    34% |███████████                     | 5.9MB 1.4MB/s eta 0:00:09    44% |██████████████▎                 | 7.6MB 2.4MB/s eta 0:00:04    58% |██████████████████▋             | 9.9MB 500kB/s eta 0:00:15    60% |███████████████████▎            | 10.2MB 688kB/s eta 0:00:10    61% |███████████████████▌            | 10.4MB 1.4MB/s eta 0:00:05    66% |█████████████████████▏          | 11.2MB 627kB/s eta 0:00:10    71% |███████████████████████         | 12.2MB 517kB/s eta 0:00:10    72% |███████████████████████▎        | 12.4MB 2.9MB/s eta 0:00:02    80% |█████████████████████████▊      | 13.6MB 1.4MB/s eta 0:00:03    88% |████████████████████████████▍   | 15.0MB 1.7MB/s eta 0:00:02    92% |█████████████████████████████▌  | 15.6MB 1.5MB/s eta 0:00:01    97% |███████████████████████████████▎| 16.6MB 2.2MB/s eta 0:00:01    99% |████████████████████████████████| 16.9MB 2.3MB/s eta 0:00:01\n",
      "\u001b[?25hRequirement already satisfied (use --upgrade to upgrade): ipython>=4.0.0 in /usr/local/lib/python3.6/site-packages (from ipywidgets>=4.0.0->qgrid)\n",
      "Requirement already satisfied (use --upgrade to upgrade): widgetsnbextension~=2.0.0 in /usr/local/lib/python3.6/site-packages (from ipywidgets>=4.0.0->qgrid)\n",
      "Requirement already satisfied (use --upgrade to upgrade): jsonschema!=2.5.0,>=2.4 in /usr/local/lib/python3.6/site-packages (from nbformat->notebook>=4.0.0->qgrid)\n",
      "Requirement already satisfied (use --upgrade to upgrade): bleach in /usr/local/lib/python3.6/site-packages (from nbconvert->notebook>=4.0.0->qgrid)\n",
      "Requirement already satisfied (use --upgrade to upgrade): pandocfilters>=1.4.1 in /usr/local/lib/python3.6/site-packages (from nbconvert->notebook>=4.0.0->qgrid)\n",
      "Requirement already satisfied (use --upgrade to upgrade): entrypoints>=0.2.2 in /usr/local/lib/python3.6/site-packages (from nbconvert->notebook>=4.0.0->qgrid)\n",
      "Requirement already satisfied (use --upgrade to upgrade): testpath in /usr/local/lib/python3.6/site-packages (from nbconvert->notebook>=4.0.0->qgrid)\n",
      "Requirement already satisfied (use --upgrade to upgrade): mistune!=0.6 in /usr/local/lib/python3.6/site-packages (from nbconvert->notebook>=4.0.0->qgrid)\n",
      "Requirement already satisfied (use --upgrade to upgrade): pygments in /usr/local/lib/python3.6/site-packages (from nbconvert->notebook>=4.0.0->qgrid)\n",
      "Requirement already satisfied (use --upgrade to upgrade): ptyprocess in /usr/local/lib/python3.6/site-packages (from terminado>=0.3.3; sys_platform != \"win32\"->notebook>=4.0.0->qgrid)\n",
      "Requirement already satisfied (use --upgrade to upgrade): MarkupSafe>=0.23 in /usr/local/lib/python3.6/site-packages (from jinja2->notebook>=4.0.0->qgrid)\n",
      "Requirement already satisfied (use --upgrade to upgrade): decorator in /root/.local/lib/python3.6/site-packages (from traitlets>=4.2.1->notebook>=4.0.0->qgrid)\n",
      "Requirement already satisfied (use --upgrade to upgrade): six in /usr/local/lib/python3.6/site-packages (from traitlets>=4.2.1->notebook>=4.0.0->qgrid)\n",
      "Requirement already satisfied (use --upgrade to upgrade): pyzmq>=13 in /usr/local/lib/python3.6/site-packages (from jupyter-client->notebook>=4.0.0->qgrid)\n",
      "Requirement already satisfied (use --upgrade to upgrade): simplegeneric>0.8 in /usr/local/lib/python3.6/site-packages (from ipython>=4.0.0->ipywidgets>=4.0.0->qgrid)\n",
      "Requirement already satisfied (use --upgrade to upgrade): setuptools>=18.5 in /usr/local/lib/python3.6/site-packages (from ipython>=4.0.0->ipywidgets>=4.0.0->qgrid)\n",
      "Requirement already satisfied (use --upgrade to upgrade): pexpect; sys_platform != \"win32\" in /usr/local/lib/python3.6/site-packages (from ipython>=4.0.0->ipywidgets>=4.0.0->qgrid)\n",
      "Requirement already satisfied (use --upgrade to upgrade): prompt-toolkit<2.0.0,>=1.0.4 in /usr/local/lib/python3.6/site-packages (from ipython>=4.0.0->ipywidgets>=4.0.0->qgrid)\n",
      "Requirement already satisfied (use --upgrade to upgrade): pickleshare in /usr/local/lib/python3.6/site-packages (from ipython>=4.0.0->ipywidgets>=4.0.0->qgrid)\n",
      "Requirement already satisfied (use --upgrade to upgrade): html5lib>=0.99999999 in /usr/local/lib/python3.6/site-packages (from bleach->nbconvert->notebook>=4.0.0->qgrid)\n",
      "Requirement already satisfied (use --upgrade to upgrade): wcwidth in /usr/local/lib/python3.6/site-packages (from prompt-toolkit<2.0.0,>=1.0.4->ipython>=4.0.0->ipywidgets>=4.0.0->qgrid)\n",
      "Requirement already satisfied (use --upgrade to upgrade): webencodings in /usr/local/lib/python3.6/site-packages (from html5lib>=0.99999999->bleach->nbconvert->notebook>=4.0.0->qgrid)\n",
      "Building wheels for collected packages: qgrid\n"
     ]
    },
    {
     "name": "stdout",
     "output_type": "stream",
     "text": [
      "  Running setup.py bdist_wheel for qgrid ... \u001b[?25ldone\n",
      "\u001b[?25h  Stored in directory: /root/.cache/pip/wheels/e0/af/3a/b5eadee99177b48ead853be8bb70902eae863c9fdaa38c1853\n",
      "Successfully built qgrid\n",
      "Installing collected packages: numpy, pandas, qgrid\n",
      "Successfully installed numpy-1.13.0 pandas-0.20.2 qgrid-0.3.3\n",
      "\u001b[33mYou are using pip version 8.1.2, however version 9.0.1 is available.\n",
      "You should consider upgrading via the 'pip install --upgrade pip' command.\u001b[0m\n"
     ]
    }
   ],
   "source": [
    "!pip install PyMySQL qgrid"
   ]
  },
  {
   "cell_type": "markdown",
   "metadata": {},
   "source": [
    "## 基本使用"
   ]
  },
  {
   "cell_type": "code",
   "execution_count": 3,
   "metadata": {},
   "outputs": [],
   "source": [
    "import pymysql.cursors\n",
    "connection = pymysql.connect(host='192.168.0.88',\n",
    "                             user='root',\n",
    "                             password='letmegoletmego',\n",
    "                             db='db',\n",
    "                             port=32768,\n",
    "                             charset='utf8mb4b',\n",
    "                             cursorclass=pymysql.cursors.DictCursor)\n",
    "table_sql = '''\n",
    "CREATE TABLE `auth_user` (\n",
    "  `id` int(11) NOT NULL AUTO_INCREMENT,\n",
    "  `password` varchar(128) NOT NULL,\n",
    "  `last_login` datetime DEFAULT NULL,\n",
    "  `is_superuser` tinyint(1) NOT NULL,\n",
    "  `username` varchar(150) NOT NULL,\n",
    "  `first_name` varchar(30) NOT NULL,\n",
    "  `last_name` varchar(30) NOT NULL,\n",
    "  `email` varchar(254) NOT NULL,\n",
    "  `is_staff` tinyint(1) NOT NULL,\n",
    "  `is_active` tinyint(1) NOT NULL,\n",
    "  `date_joined` datetime NOT NULL,\n",
    "  PRIMARY KEY (`id`),\n",
    "  UNIQUE KEY `username` (`username`)\n",
    ") ENGINE=InnoDB AUTO_INCREMENT=1 DEFAULT CHARSET=utf8;\n",
    "'''\n",
    "\n",
    "try:\n",
    "    with connection.cursor() as cursor:\n",
    "        cursor.execute(table_sql)\n",
    "    connection.commit()\n",
    "finally:\n",
    "    connection.close()\n"
   ]
  },
  {
   "cell_type": "code",
   "execution_count": 15,
   "metadata": {},
   "outputs": [
    {
     "name": "stderr",
     "output_type": "stream",
     "text": [
      "Widget Javascript not detected.  It may not be installed or enabled properly.\n"
     ]
    },
    {
     "data": {
      "application/vnd.jupyter.widget-view+json": {
       "model_id": "10b6fbd7ce0042cd9c96f8953a7def3f"
      }
     },
     "metadata": {},
     "output_type": "display_data"
    }
   ],
   "source": [
    "# from IPython.display import HTML, display\n",
    "\n",
    "# data = [[1,2,3],\n",
    "#      [4,5,6],\n",
    "#      [7,8,9],\n",
    "#      ]\n",
    "\n",
    "# display(HTML(\n",
    "# '<table><tr>{}</tr></table>'.format(\n",
    "#     '</tr><tr>'.join(\n",
    "#         '<td>{}</td>'.format('</td><td>'.join(str(_) for _ in row)) for row in data)\n",
    "#     )\n",
    "# ))\n",
    "\n",
    "import pandas as pd\n",
    "import qgrid\n",
    "qgrid.nbinstall(overwrite=True)  # copies javascript dependencies to your /nbextensions folder\n",
    "df3 = pd.DataFrame({\n",
    "    'A' : 1.,\n",
    "    'B' : pd.Timestamp('20130102'),\n",
    "    'C' :2,\n",
    "    'D' : 3,\n",
    "    'E' : pd.Categorical([\"washington\", \"adams\", \"madison\", \"lincoln\",\"jefferson\", \"hamilton\", \"roosevelt\", \"kennedy\"]),\n",
    "    'F' : 'foo' })\n",
    "\n",
    "from IPython.display import display\n",
    "grid = qgrid.QGridWidget(df=df3)\n",
    "display(grid)\n"
   ]
  }
 ],
 "metadata": {
  "kernelspec": {
   "display_name": "Python 3",
   "language": "python",
   "name": "python3"
  },
  "language_info": {
   "codemirror_mode": {
    "name": "ipython",
    "version": 3
   },
   "file_extension": ".py",
   "mimetype": "text/x-python",
   "name": "python",
   "nbconvert_exporter": "python",
   "pygments_lexer": "ipython3",
   "version": "3.6.1"
  }
 },
 "nbformat": 4,
 "nbformat_minor": 2
}
