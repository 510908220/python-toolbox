{
 "cells": [
  {
   "cell_type": "markdown",
   "metadata": {},
   "source": [
    "## mysql使用问题"
   ]
  },
  {
   "cell_type": "markdown",
   "metadata": {},
   "source": [
    "## Why are some mysql connections selecting old data the mysql database after a delete + insert?"
   ]
  },
  {
   "cell_type": "markdown",
   "metadata": {},
   "source": [
    "MySQL defaults to the isolation level \"REPEATABLE READ\" which means you will not see any changes in your transaction that were done after the transaction started - even if those (other) changes were committed.\n",
    "\n",
    "If you issue a COMMIT or ROLLBACK in those sessions, you should see the changed data (because that will end the transaction that is \"in progress\").\n",
    "\n",
    "The other option is to change the isolation level for those sessions to \"READ COMMITTED\". Maybe there is an option to change the default level as well, but you would need to check the manual for that.\n",
    "\n"
   ]
  }
 ],
 "metadata": {
  "kernelspec": {
   "display_name": "Python 3",
   "language": "python",
   "name": "python3"
  },
  "language_info": {
   "codemirror_mode": {
    "name": "ipython",
    "version": 3
   },
   "file_extension": ".py",
   "mimetype": "text/x-python",
   "name": "python",
   "nbconvert_exporter": "python",
   "pygments_lexer": "ipython3",
   "version": "3.6.1"
  }
 },
 "nbformat": 4,
 "nbformat_minor": 2
}
