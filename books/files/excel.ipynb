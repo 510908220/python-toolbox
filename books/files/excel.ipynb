{
 "cells": [
  {
   "cell_type": "markdown",
   "metadata": {},
   "source": [
    "# excel处理\n",
    "\n",
    "> excel处理有很多库(pyecel、xlwt / xlrd 、tablib等),下面整理一下[tablib](https://github.com/kennethreitz/tablib)操作excel.\n",
    "\n",
    "- [安装](#安装)\n",
    "- [单sheet写](#单sheet写)\n",
    "- [单sheet读取](#单sheet读取)\n",
    "- [多sheet写](#多sheet写)\n",
    "- [多sheet读取](#多sheet读取)\n",
    "- [注意](#注意)\n"
   ]
  },
  {
   "cell_type": "markdown",
   "metadata": {},
   "source": [
    "## 安装"
   ]
  },
  {
   "cell_type": "code",
   "execution_count": 5,
   "metadata": {
    "collapsed": false
   },
   "outputs": [
    {
     "name": "stdout",
     "output_type": "stream",
     "text": [
      "Requirement already satisfied: tablib in c:\\users\\administrator\\appdata\\local\\programs\\python\\python36-32\\lib\\site-packages\n"
     ]
    }
   ],
   "source": [
    "!pip install tablib"
   ]
  },
  {
   "cell_type": "markdown",
   "metadata": {},
   "source": [
    "## 单sheet写"
   ]
  },
  {
   "cell_type": "code",
   "execution_count": 18,
   "metadata": {
    "collapsed": false
   },
   "outputs": [],
   "source": [
    "import tablib\n",
    "\n",
    "data = tablib.Dataset(headers=[u'LOL选手', u'位置', u'KDA'], title=u\"LOL主播信息\")\n",
    "data.append((u'Dopa', u'中单', 9.9))\n",
    "data.append_separator(u'--------------分割线----------------')\n",
    "data.append((u'炸姐', u'ADC', 8.8))\n",
    "\n",
    "with open(\"excel/single_sheet.xls\", \"wb\") as f:\n",
    "    f.write(data.xls)"
   ]
  },
  {
   "cell_type": "markdown",
   "metadata": {},
   "source": [
    "![](excel/single_sheet.png)"
   ]
  },
  {
   "cell_type": "markdown",
   "metadata": {},
   "source": [
    "## 单sheet读取"
   ]
  },
  {
   "cell_type": "code",
   "execution_count": 19,
   "metadata": {
    "collapsed": false
   },
   "outputs": [
    {
     "name": "stdout",
     "output_type": "stream",
     "text": [
      "['LOL选手', '位置', 'KDA']\n",
      "[9.9, '', 8.8]\n",
      "('Dopa', '中单', 9.9)\n",
      "('--------------分割线----------------', '', '')\n",
      "('炸姐', 'ADC', 8.8)\n"
     ]
    }
   ],
   "source": [
    "import tablib\n",
    "\n",
    "data = tablib.Dataset().load(open('excel/single_sheet.xls', \"rb\").read(), \"xls\")\n",
    "print (data.headers)  # 表头,也就是第一行\n",
    "print (data[u'KDA'])  # KDA这一列数据\n",
    "for row in data:  # 遍历除头以外的行\n",
    "    print(row)"
   ]
  },
  {
   "cell_type": "markdown",
   "metadata": {},
   "source": [
    "## 多sheet写"
   ]
  },
  {
   "cell_type": "code",
   "execution_count": 20,
   "metadata": {
    "collapsed": true
   },
   "outputs": [],
   "source": [
    "import tablib\n",
    "\n",
    "data1 = tablib.Dataset(headers=[u'主播', u'擅长英雄', u'KDA'], title=u\"虎牙主播信息\")\n",
    "data1.append((u'Dopa', u'卡萨丁', 666))\n",
    "data1.append_separator(u'--------------分割线----------------')\n",
    "data1.append((u'骚男', u'男刀', 555))\n",
    "\n",
    "data2 = tablib.Dataset(headers=[u'主播', u'擅长英雄', u'KDA'], title=u\"斗鱼主播信息\")\n",
    "data2.append((u'55开', u'卡牌',333))\n",
    "data2.append_separator(u'--------------分割线----------------')\n",
    "data2.append((u'小智', u'剑圣',111))\n",
    "\n",
    "book = tablib.Databook((data1, data2))\n",
    "with open(\"excel/multi_sheet.xls\", \"wb\") as f:\n",
    "    f.write(book.xls)"
   ]
  },
  {
   "cell_type": "markdown",
   "metadata": {},
   "source": [
    "![](excel/multi_sheet.png)"
   ]
  },
  {
   "cell_type": "markdown",
   "metadata": {},
   "source": [
    "## 多sheet读取"
   ]
  },
  {
   "cell_type": "code",
   "execution_count": 28,
   "metadata": {
    "collapsed": false
   },
   "outputs": [
    {
     "name": "stdout",
     "output_type": "stream",
     "text": [
      "2\n",
      "['主播', '擅长英雄', 'KDA']\n",
      "['55开', '--------------分割线----------------', '小智']\n",
      "('55开', '卡牌', 333.0)\n",
      "('--------------分割线----------------', '', '')\n",
      "('小智', '剑圣', 111.0)\n"
     ]
    }
   ],
   "source": [
    "import tablib\n",
    "\n",
    "datas = tablib.Databook().load(\"xls\", open('excel/multi_sheet.xls', \"rb\").read())\n",
    "print (len(datas.sheets()))  # sheet个数\n",
    "data = datas.sheets()[1]  # 选取第二个sheet\n",
    "\n",
    "print (data.headers)  # 表头,也就是第一行\n",
    "print (data[u'主播'])  # 主播这一列数据\n",
    "for row in data:  # 遍历除头以外的行\n",
    "    print (row)"
   ]
  },
  {
   "cell_type": "markdown",
   "metadata": {},
   "source": [
    "## 注意\n",
    "\n",
    "xls格式遇到数据多的话会报错,好像是六万多.可以换成保存为xlsx格式. "
   ]
  }
 ],
 "metadata": {
  "kernelspec": {
   "display_name": "Python 3",
   "language": "python",
   "name": "python3"
  },
  "language_info": {
   "codemirror_mode": {
    "name": "ipython",
    "version": 3
   },
   "file_extension": ".py",
   "mimetype": "text/x-python",
   "name": "python",
   "nbconvert_exporter": "python",
   "pygments_lexer": "ipython3",
   "version": "3.6.0"
  }
 },
 "nbformat": 4,
 "nbformat_minor": 2
}
