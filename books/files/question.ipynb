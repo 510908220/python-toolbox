{
 "cells": [
  {
   "cell_type": "markdown",
   "metadata": {
    "deletable": true,
    "editable": true
   },
   "source": [
    "# 文件相关的问题整理"
   ]
  },
  {
   "cell_type": "markdown",
   "metadata": {
    "deletable": true,
    "editable": true
   },
   "source": [
    "## 问题一:`difference between __file__ and sys.argv[0]`"
   ]
  },
  {
   "cell_type": "code",
   "execution_count": 1,
   "metadata": {
    "collapsed": false,
    "deletable": true,
    "editable": true
   },
   "outputs": [
    {
     "data": {
      "text/plain": [
       "['m.py', 'main.py', '__init__.py']"
      ]
     },
     "execution_count": 1,
     "metadata": {},
     "output_type": "execute_result"
    }
   ],
   "source": [
    "import os\n",
    "os.listdir('question/one')"
   ]
  },
  {
   "cell_type": "code",
   "execution_count": null,
   "metadata": {
    "collapsed": true,
    "deletable": true,
    "editable": true
   },
   "outputs": [],
   "source": [
    "# %load question/one/main.py\n",
    "from . import m\n"
   ]
  },
  {
   "cell_type": "code",
   "execution_count": null,
   "metadata": {
    "collapsed": false,
    "deletable": true,
    "editable": true
   },
   "outputs": [],
   "source": [
    "# %load question/one/m.py\n",
    "import sys\n",
    "import os\n",
    "print('cwd', os.getcwd())\n",
    "print('__file__:', __file__)\n",
    "print('argv[0]:', sys.argv[0])\n",
    "print('__name__:', __name__)"
   ]
  },
  {
   "cell_type": "markdown",
   "metadata": {
    "deletable": true,
    "editable": true
   },
   "source": [
    "#### 直接运行模块"
   ]
  },
  {
   "cell_type": "code",
   "execution_count": 2,
   "metadata": {
    "collapsed": false,
    "deletable": true,
    "editable": true
   },
   "outputs": [
    {
     "name": "stdout",
     "output_type": "stream",
     "text": [
      "cwd F:\\github\\python-toolbox\\books\\files\n",
      "__file__: F:\\github\\python-toolbox\\books\\files\\question\\one\\m.py\n",
      "argv[0]: F:\\github\\python-toolbox\\books\\files\\question\\one\\m.py\n",
      "__name__: __main__\n"
     ]
    }
   ],
   "source": [
    "!python  -m question.one.m"
   ]
  },
  {
   "cell_type": "code",
   "execution_count": 3,
   "metadata": {
    "collapsed": false,
    "deletable": true,
    "editable": true
   },
   "outputs": [
    {
     "name": "stdout",
     "output_type": "stream",
     "text": [
      "cwd F:\\github\\python-toolbox\\books\\files\n",
      "__file__: question/one/m.py\n",
      "argv[0]: question/one/m.py\n",
      "__name__: __main__\n"
     ]
    }
   ],
   "source": [
    "!python  question/one/m.py"
   ]
  },
  {
   "cell_type": "markdown",
   "metadata": {
    "deletable": true,
    "editable": true
   },
   "source": [
    "#### 作为被导入模块"
   ]
  },
  {
   "cell_type": "code",
   "execution_count": 4,
   "metadata": {
    "collapsed": false,
    "deletable": true,
    "editable": true
   },
   "outputs": [
    {
     "name": "stdout",
     "output_type": "stream",
     "text": [
      "cwd F:\\github\\python-toolbox\\books\\files\n",
      "__file__: F:\\github\\python-toolbox\\books\\files\\question\\one\\m.py\n",
      "argv[0]: F:\\github\\python-toolbox\\books\\files\\question\\one\\main.py\n",
      "__name__: question.one.m\n"
     ]
    }
   ],
   "source": [
    "!python  -m question.one.main"
   ]
  },
  {
   "cell_type": "markdown",
   "metadata": {
    "deletable": true,
    "editable": true
   },
   "source": [
    "从这两种不同的方式可以看出:\n",
    "- 脚本直接运行,`sys.argv[0]`和`__file__`效果一样.\n",
    "- 作为被导入模块,`__file__`表示的是模块文件路径,`sys.argv[0]`表示的是运行的文件路径.\n",
    "所以要想取得当前模块的路径,`__file__`才是正确的方式.\n",
    "\n",
    "注意: 从`直接运行`方式可以看到直接以脚本而不是模块方式运行得到的是相对路径,所以需要调用`os.path.abspath`来取得绝对路径."
   ]
  },
  {
   "cell_type": "markdown",
   "metadata": {
    "deletable": true,
    "editable": true
   },
   "source": [
    "#### 参考\n",
    "http://stackoverflow.com/questions/5851588/difference-between-file-and-sys-argv0\n",
    "    "
   ]
  }
 ],
 "metadata": {
  "kernelspec": {
   "display_name": "Python 3",
   "language": "python",
   "name": "python3"
  },
  "language_info": {
   "codemirror_mode": {
    "name": "ipython",
    "version": 3
   },
   "file_extension": ".py",
   "mimetype": "text/x-python",
   "name": "python",
   "nbconvert_exporter": "python",
   "pygments_lexer": "ipython3",
   "version": "3.6.0"
  }
 },
 "nbformat": 4,
 "nbformat_minor": 2
}
