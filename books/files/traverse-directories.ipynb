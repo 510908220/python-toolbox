{
 "cells": [
  {
   "cell_type": "markdown",
   "metadata": {},
   "source": [
    "# 目录遍历\n",
    "\n",
    "#### 下面整理常见的目录遍历方式:\n",
    "\n",
    "- [os.listdir](#os.listdir)\n",
    "- [os.scandir](#os.scandir)\n",
    "- [os.walk](#os.walk)\n",
    "- [os.listdir](#os.listdir)\n",
    "- [glob.glob](#glob.glob)\n",
    "- [pathlib.Path](#pathlib.Path)\n",
    "\n",
    "\n",
    "\n",
    "#### 目录结构为:\n",
    "```\n",
    "traverse-directories\n",
    "    sell.txt\n",
    "    fuit-shop\\\n",
    "        orange.txt\n",
    "        apple.txt\n",
    "    car\\\n",
    "        small-car\\\n",
    "            奔驰.txt\n",
    "        big-car\\\n",
    "            拖拉机.txt\n",
    "    \n",
    "```"
   ]
  },
  {
   "cell_type": "markdown",
   "metadata": {},
   "source": [
    "## os.listdir\n",
    ">  返回当前目录文件或目录名列表"
   ]
  },
  {
   "cell_type": "code",
   "execution_count": 10,
   "metadata": {
    "collapsed": false
   },
   "outputs": [
    {
     "data": {
      "text/plain": [
       "['car', 'fuit-shop', 'sell.txt']"
      ]
     },
     "execution_count": 10,
     "metadata": {},
     "output_type": "execute_result"
    }
   ],
   "source": [
    "import os\n",
    "os.listdir('traverse-directories') "
   ]
  },
  {
   "cell_type": "markdown",
   "metadata": {},
   "source": [
    "## os.scandir\n",
    "> 返回可迭代的对象os.DirEntry ,可以直接判断是文件还是目录等.\n"
   ]
  },
  {
   "cell_type": "code",
   "execution_count": 11,
   "metadata": {
    "collapsed": false
   },
   "outputs": [
    {
     "name": "stdout",
     "output_type": "stream",
     "text": [
      "car False\n",
      "fuit-shop False\n",
      "sell.txt True\n"
     ]
    }
   ],
   "source": [
    "with os.scandir('traverse-directories') as it:\n",
    "    for entry in it:\n",
    "        print(entry.name,entry.is_file())\n"
   ]
  },
  {
   "cell_type": "markdown",
   "metadata": {},
   "source": [
    "## os.walk\n",
    "\n",
    "> 可以递归遍历目录, 另外还支持遍历符号链接指向的目录."
   ]
  },
  {
   "cell_type": "code",
   "execution_count": 14,
   "metadata": {
    "collapsed": false
   },
   "outputs": [
    {
     "name": "stdout",
     "output_type": "stream",
     "text": [
      "traverse-directories\\car\n",
      "traverse-directories\\fuit-shop\n",
      "traverse-directories\\sell.txt\n",
      "traverse-directories\\car\\big-car\n",
      "traverse-directories\\car\\small-car\n",
      "traverse-directories\\car\\big-car\\拖拉机.txt\n",
      "traverse-directories\\car\\small-car\\奔驰.txt\n",
      "traverse-directories\\fuit-shop\\apple.txt\n",
      "traverse-directories\\fuit-shop\\orange.txt\n"
     ]
    }
   ],
   "source": [
    "for root, dirs, files in os.walk(\"traverse-directories\"):\n",
    "    for d in dirs:\n",
    "        print (os.path.join(root,d))\n",
    "\n",
    "    for f in files:\n",
    "        print (os.path.join(root,f))"
   ]
  },
  {
   "cell_type": "markdown",
   "metadata": {},
   "source": [
    "## glob.glob\n",
    "> 如果文件比较多的话可以使用`glob.iglob`提高性能."
   ]
  },
  {
   "cell_type": "code",
   "execution_count": 50,
   "metadata": {
    "collapsed": false
   },
   "outputs": [
    {
     "name": "stdout",
     "output_type": "stream",
     "text": [
      "普通遍历:\n",
      "traverse-directories\\car\n",
      "traverse-directories\\fuit-shop\n",
      "traverse-directories\\sell.txt\n",
      "递归遍历:\n",
      "traverse-directories\\\n",
      "traverse-directories\\car\n",
      "traverse-directories\\car\\big-car\n",
      "traverse-directories\\car\\big-car\\拖拉机.txt\n",
      "traverse-directories\\car\\small-car\n",
      "traverse-directories\\car\\small-car\\奔驰.txt\n",
      "traverse-directories\\fuit-shop\n",
      "traverse-directories\\fuit-shop\\apple.txt\n",
      "traverse-directories\\fuit-shop\\orange.txt\n",
      "traverse-directories\\sell.txt\n"
     ]
    }
   ],
   "source": [
    "import glob\n",
    "print('普通遍历:')\n",
    "for i in glob.glob('traverse-directories/*'):\n",
    "    print(i)\n",
    "print('递归遍历:')\n",
    "for i in glob.glob('traverse-directories/**',recursive=True):\n",
    "    print(i)"
   ]
  },
  {
   "cell_type": "markdown",
   "metadata": {},
   "source": [
    "## pathlib.Path\n",
    "> 自从python3开始,有了`Path` 这个表示路径的对象,写起来很面向对象."
   ]
  },
  {
   "cell_type": "code",
   "execution_count": 25,
   "metadata": {
    "collapsed": false
   },
   "outputs": [
    {
     "name": "stdout",
     "output_type": "stream",
     "text": [
      "遍历目录方式一:\n",
      "traverse-directories\\car\n",
      "traverse-directories\\fuit-shop\n",
      "traverse-directories\\sell.txt\n",
      "遍历目录方式二:\n",
      "traverse-directories\\car\n",
      "traverse-directories\\fuit-shop\n",
      "traverse-directories\\sell.txt\n",
      "遍历目录方式三(递归):\n",
      "traverse-directories\\car\n",
      "traverse-directories\\fuit-shop\n",
      "traverse-directories\\sell.txt\n",
      "traverse-directories\\car\\big-car\n",
      "traverse-directories\\car\\small-car\n",
      "traverse-directories\\car\\big-car\\拖拉机.txt\n",
      "traverse-directories\\car\\small-car\\奔驰.txt\n",
      "traverse-directories\\fuit-shop\\apple.txt\n",
      "traverse-directories\\fuit-shop\\orange.txt\n"
     ]
    }
   ],
   "source": [
    "from pathlib import Path\n",
    "root = Path('traverse-directories')\n",
    "print(\"遍历目录方式一:\")\n",
    "for child in root.iterdir():\n",
    "    print (child)\n",
    "print(\"遍历目录方式二:\")\n",
    "for i in root.glob('*'):\n",
    "    print(i)\n",
    "print(\"遍历目录方式三(递归):\")\n",
    "for i in root.glob('**/*'):\n",
    "    print(i)"
   ]
  }
 ],
 "metadata": {
  "kernelspec": {
   "display_name": "Python 3",
   "language": "python",
   "name": "python3"
  },
  "language_info": {
   "codemirror_mode": {
    "name": "ipython",
    "version": 3
   },
   "file_extension": ".py",
   "mimetype": "text/x-python",
   "name": "python",
   "nbconvert_exporter": "python",
   "pygments_lexer": "ipython3",
   "version": "3.6.0"
  }
 },
 "nbformat": 4,
 "nbformat_minor": 2
}
