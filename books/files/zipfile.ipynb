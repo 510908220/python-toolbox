{
 "cells": [
  {
   "cell_type": "markdown",
   "metadata": {},
   "source": [
    "# 压缩文件\n",
    "\n",
    "> 整理`zipfile`的使用\n",
    "\n",
    "- [基本操作](#基本操作)\n",
    "- [读取压缩文件](#读取压缩文件)\n",
    "- [写入压缩文件](#写入压缩文件)\n",
    "- [Python ZIP Archives](#Python ZIP Archives)\n",
    "- [命令行操作](#命令行操作)\n",
    "\n",
    "参考:\n",
    "1. https://docs.python.org/3/library/zipfile.html\n",
    "2. https://pymotw.com/3/zipfile/index.html\n"
   ]
  },
  {
   "cell_type": "markdown",
   "metadata": {},
   "source": [
    "## 基本操作"
   ]
  },
  {
   "cell_type": "code",
   "execution_count": 27,
   "metadata": {
    "collapsed": false
   },
   "outputs": [
    {
     "name": "stdout",
     "output_type": "stream",
     "text": [
      "判断zip文件,从结果来看这个函数不准确:\n",
      "            dir  False\n",
      "     readme.txt  False\n",
      "      resume.md  False\n",
      "    zipfile.zip  False\n",
      "查看zip里的文件列表:\n",
      "['zipfile/', 'zipfile/dir/', 'zipfile/dir/dir_file.txt', 'zipfile/dir/subdir/', 'zipfile/dir/subdir/subdir_file.txt', 'zipfile/readme.txt', 'zipfile/resume.md']\n"
     ]
    }
   ],
   "source": [
    "# 判断是否是zip文件\n",
    "import os\n",
    "import zipfile\n",
    "\n",
    "print(\"判断zip文件,从结果来看这个函数不准确:\")\n",
    "for filename in os.listdir('zipfile'):\n",
    "      print('{:>15}  {}'.format(\n",
    "        filename, zipfile.is_zipfile(filename)))\n",
    "\n",
    "print(\"查看zip里的文件列表:\")        \n",
    "with zipfile.ZipFile('zipfile/zipfile.zip', 'r') as zf:\n",
    "    print(zf.namelist())"
   ]
  },
  {
   "cell_type": "markdown",
   "metadata": {},
   "source": [
    "## 读取压缩文件"
   ]
  },
  {
   "cell_type": "markdown",
   "metadata": {},
   "source": [
    "#### 读取文件"
   ]
  },
  {
   "cell_type": "code",
   "execution_count": 28,
   "metadata": {
    "collapsed": false
   },
   "outputs": [
    {
     "name": "stdout",
     "output_type": "stream",
     "text": [
      "zipfile/                        :b''\n",
      "zipfile/dir/                    :b''\n",
      "zipfile/dir/dir_file.txt        :b'dir_file'\n",
      "zipfile/dir/subdir/             :b''\n",
      "zipfile/dir/subdir/subdir_file.txt  :b'subdir_file'\n",
      "zipfile/readme.txt              :b'my name is hzz, my qq is 510908220'\n",
      "zipfile/resume.md               :b'# resume\\n\\n## work\\n'\n"
     ]
    }
   ],
   "source": [
    "with zipfile.ZipFile('zipfile/zipfile.zip', 'r') as zf:\n",
    "    for filename in zf.namelist():\n",
    "        print('{:<30}  :{}'.format(filename,zf.read(filename)))"
   ]
  },
  {
   "cell_type": "markdown",
   "metadata": {},
   "source": [
    "#### 解压单个文件\n",
    " `ZipFile.extract(member, path=None, pwd=None)`\n",
    "\n",
    "- `member`: 文件在压缩包里的名字\n",
    "- `path`: 目标目录\n",
    "- `pwd`: 解密密码"
   ]
  },
  {
   "cell_type": "code",
   "execution_count": 41,
   "metadata": {
    "collapsed": false
   },
   "outputs": [
    {
     "name": "stdout",
     "output_type": "stream",
     "text": [
      "\\zipfile\\dir\\dir_file.txt\n"
     ]
    }
   ],
   "source": [
    "from print_util import print_dir\n",
    "with zipfile.ZipFile('zipfile/zipfile.zip', 'r') as zf:\n",
    "    zf.extract('zipfile/dir/dir_file.txt', r'zipfile/zip_out')\n",
    "\n",
    "# 从结果可以看到解压出来的文件保留在zip里的结构\n",
    "print_dir('zipfile/zip_out')\n"
   ]
  },
  {
   "cell_type": "markdown",
   "metadata": {},
   "source": [
    "#### 解压全部文件\n",
    "`ZipFile.extractall(path=None, members=None, pwd=None)`\n",
    "- `path`: 目标目录\n",
    "- `members`: `namelist()`的子集\n",
    "- `pwd`: 解密密码\n"
   ]
  },
  {
   "cell_type": "code",
   "execution_count": 43,
   "metadata": {
    "collapsed": false
   },
   "outputs": [
    {
     "name": "stdout",
     "output_type": "stream",
     "text": [
      "\\zipfile\\readme.txt\n",
      "\\zipfile\\resume.md\n",
      "\\zipfile\\dir\\dir_file.txt\n",
      "\\zipfile\\dir\\subdir\\subdir_file.txt\n"
     ]
    }
   ],
   "source": [
    "from print_util import print_dir\n",
    "with zipfile.ZipFile('zipfile/zipfile.zip', 'r') as zf:\n",
    "    zf.extractall( 'zipfile/zip_out_all')\n",
    "\n",
    "print_dir('zipfile/zip_out_all')"
   ]
  },
  {
   "cell_type": "markdown",
   "metadata": {},
   "source": [
    "## 写入压缩文件\n",
    "\n",
    "`zipfile.ZipFile(file, mode='r', compression=ZIP_STORED, allowZip64=True)`\n",
    "\n",
    "- `file`: 文件路径或者\n",
    "- `mode` : 有`r`、`w`、`a`、`x`,很文件差不多. \n",
    "- `compression`: 压缩方法\n",
    "- `allowZip64`: 为`True`时当文件大于`4G`时使用`ZIP64`扩展."
   ]
  },
  {
   "cell_type": "code",
   "execution_count": 64,
   "metadata": {
    "collapsed": false
   },
   "outputs": [
    {
     "name": "stdout",
     "output_type": "stream",
     "text": [
      "\\write.zip\n"
     ]
    }
   ],
   "source": [
    "import zipfile\n",
    "\n",
    "with zipfile.ZipFile('zipfile/write_zip/write.zip', mode='w') as zf:\n",
    "    zf.write('zipfile/readme.txt') # 写入文件\n",
    "    zf.writestr('from_string.txt', \"msg\") # 写入字符串\n",
    "print_dir('zipfile/write_zip')"
   ]
  },
  {
   "cell_type": "code",
   "execution_count": 65,
   "metadata": {
    "collapsed": false
   },
   "outputs": [
    {
     "name": "stdout",
     "output_type": "stream",
     "text": [
      "\\write.zip\n"
     ]
    }
   ],
   "source": [
    "import zipfile\n",
    "\n",
    "with zipfile.ZipFile('zipfile/write_zip/write.zip', mode='a') as zf:\n",
    "    zf.write('zipfile/resume.md') # 追加文件\n",
    "print_dir('zipfile/write_zip')"
   ]
  },
  {
   "cell_type": "markdown",
   "metadata": {},
   "source": [
    "## Python ZIP Archives\n",
    ">  python可以从zip里导入模块\n",
    "\n",
    "`\n",
    "zipfile.PyZipFile(file, mode='r', compression=ZIP_STORED, allowZip64=True, optimize=-1)\n",
    "`\n"
   ]
  },
  {
   "cell_type": "markdown",
   "metadata": {},
   "source": [
    "#### 创建python zip包"
   ]
  },
  {
   "cell_type": "code",
   "execution_count": 66,
   "metadata": {
    "collapsed": false
   },
   "outputs": [
    {
     "name": "stdout",
     "output_type": "stream",
     "text": [
      "Adding python files\n",
      "Adding package in zipfile/pyzipfile as pyzipfile\n",
      "Compiling zipfile/pyzipfile\\__init__.py\n",
      "Adding pyzipfile/__init__.pyc\n",
      "Compiling zipfile/pyzipfile\\test_module.py\n",
      "Adding pyzipfile/test_module.pyc\n",
      "pyzipfile/__init__.pyc\n",
      "pyzipfile/test_module.pyc\n"
     ]
    }
   ],
   "source": [
    "with zipfile.PyZipFile('zipfile/pyzipfile.zip', mode='w') as zf:\n",
    "    zf.debug = 3\n",
    "    print('Adding python files')\n",
    "    zf.writepy('zipfile/pyzipfile')\n",
    "for name in zf.namelist():\n",
    "    print(name)"
   ]
  },
  {
   "cell_type": "markdown",
   "metadata": {},
   "source": [
    "#### 使用python zip包"
   ]
  },
  {
   "cell_type": "code",
   "execution_count": 68,
   "metadata": {
    "collapsed": false
   },
   "outputs": [
    {
     "name": "stdout",
     "output_type": "stream",
     "text": [
      "2017-03-24 09:57:05.485444\n"
     ]
    }
   ],
   "source": [
    "import sys\n",
    "sys.path.insert(0, 'zipfile/pyzipfile.zip')\n",
    "\n",
    "from pyzipfile import test_module\n",
    "test_module.show_time()\n"
   ]
  },
  {
   "cell_type": "markdown",
   "metadata": {},
   "source": [
    "## 命令行操作\n",
    "> `zipfile`提供了一些简单的命令行接口去和zip交互\n",
    "\n",
    "- 压缩文件:`python -m zipfile -c monty.zip spam.txt eggs.txt`\n",
    "- 压缩目录: `python -m zipfile -c monty.zip life-of-brian_1979/`\n",
    "- 解压到某个目录: `python -m zipfile -e monty.zip target-dir/`\n",
    "- 查看压缩包内容: `python -m zipfile -l monty.zip`\n"
   ]
  }
 ],
 "metadata": {
  "kernelspec": {
   "display_name": "Python 3",
   "language": "python",
   "name": "python3"
  },
  "language_info": {
   "codemirror_mode": {
    "name": "ipython",
    "version": 3
   },
   "file_extension": ".py",
   "mimetype": "text/x-python",
   "name": "python",
   "nbconvert_exporter": "python",
   "pygments_lexer": "ipython3",
   "version": "3.6.0"
  }
 },
 "nbformat": 4,
 "nbformat_minor": 0
}
