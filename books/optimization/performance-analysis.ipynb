{
 "cells": [
  {
   "cell_type": "markdown",
   "metadata": {},
   "source": [
    "# Python性能分析\n",
    "\n",
    "分析一个程序的性能时基本归纳为四个方面:\n",
    "\n",
    "- 程序运行的快吗\n",
    "- 性能瓶颈在哪\n",
    "- 使用了多少内存\n",
    "- 哪里有内存泄露\n",
    "\n",
    "下面介绍一些性能分析工具.\n"
   ]
  },
  {
   "cell_type": "markdown",
   "metadata": {},
   "source": [
    "## 基本时间分析\n",
    "- [time](#time)\n",
    "- [context manager](#contextmanager)"
   ]
  },
  {
   "cell_type": "markdown",
   "metadata": {},
   "source": [
    "#### time\n",
    "\n",
    "time 是linux下可以测量程序运行时间的程序.执行结果有三个部分(详细用法可以查询(man time):\n",
    "    \n",
    "- `real`:值表示从程序开始到程序执行结束时所消耗的时间，包括CPU的用时\n",
    "- `user`:值表示程序本身，以及它所调用的库中的子例程使用的时间\n",
    "- `sys`:是由程序直接或间接调用的系统调用执行的时间\n",
    "\n",
    "如果 `sys` + `user`远远小于`real`的话,就有可能是由于`io`等待导致的.\n"
   ]
  },
  {
   "cell_type": "code",
   "execution_count": 27,
   "metadata": {},
   "outputs": [
    {
     "name": "stdout",
     "output_type": "stream",
     "text": [
      "Overwriting slow_app.py\n"
     ]
    }
   ],
   "source": [
    "%%writefile slow_app.py\n",
    "\n",
    "import sys\n",
    "import time\n",
    "\n",
    "\n",
    "def mock_download():\n",
    "    for i in range(5):\n",
    "        time.sleep(1)\n",
    "\n",
    "\n",
    "def mock_database():\n",
    "    for i in range(20):\n",
    "        time.sleep(0.1)\n",
    "\n",
    "\n",
    "def mock_calcate():\n",
    "    for i in range(100000000):\n",
    "        pass\n",
    "\n",
    "\n",
    "def main():\n",
    "    mock_download()\n",
    "    mock_database()\n",
    "    mock_calcate()\n",
    "\n",
    "\n",
    "if __name__ == \"__main__\":\n",
    "    sys.exit(main())\n"
   ]
  },
  {
   "cell_type": "code",
   "execution_count": 13,
   "metadata": {},
   "outputs": [
    {
     "name": "stdout",
     "output_type": "stream",
     "text": [
      "real 8.72\r\n",
      "user 1.66\r\n",
      "sys 0.00\r\n"
     ]
    }
   ],
   "source": [
    "!time -p python slow_app.py"
   ]
  },
  {
   "cell_type": "markdown",
   "metadata": {},
   "source": [
    "上面可以初步看到程序本身执行时间很短,大部分时间在等待写什么. 只能看到一个大概,不能定位到具体代码."
   ]
  },
  {
   "cell_type": "markdown",
   "metadata": {},
   "source": [
    "#### contextmanager\n",
    "\n",
    "使用python的上下文管理器机制对代码进行耗时度量:\n",
    "- `__enter__`:记录开始时间\n",
    "- `__exit__`: 记录结束时间\n"
   ]
  },
  {
   "cell_type": "code",
   "execution_count": 1,
   "metadata": {},
   "outputs": [
    {
     "name": "stdout",
     "output_type": "stream",
     "text": [
      "Overwriting timer.py\n"
     ]
    }
   ],
   "source": [
    "%%writefile timer.py\n",
    "\n",
    "import time\n",
    "\n",
    "\n",
    "class Timer(object):\n",
    "    def __init__(self, verbose=False):\n",
    "        self.verbose = verbose\n",
    "    \n",
    "    def __enter__(self):\n",
    "        self.start = time.time()\n",
    "        return self\n",
    "    \n",
    "    def __exit__(self, *args):\n",
    "        self.end = time.time()\n",
    "        self.secs = self.end - self.start\n",
    "        self.msecs = self.secs * 1000  # millisecs\n",
    "        if self.verbose:\n",
    "            print('elapsed time: %f ms', self.msecs)\n"
   ]
  },
  {
   "cell_type": "code",
   "execution_count": 2,
   "metadata": {},
   "outputs": [
    {
     "name": "stdout",
     "output_type": "stream",
     "text": [
      "elasped time %s s 0.04282546043395996\n"
     ]
    }
   ],
   "source": [
    "from timer import Timer\n",
    "with Timer() as t:\n",
    "    for i in range(1000000):\n",
    "        pass\n",
    "print('elasped time %s s',t.secs)\n",
    "    "
   ]
  },
  {
   "cell_type": "markdown",
   "metadata": {},
   "source": [
    "可以将耗时写到日志里,这样在写代码的时候对关键的逻辑处(数据库、网络等)进行如上改写,然后通过分析日志排查性能问题. 当然也可以扩展一下将每次性能数据写入数据库分析."
   ]
  },
  {
   "cell_type": "markdown",
   "metadata": {},
   "source": [
    "## [line_profiler](https://github.com/rkern/line_profiler)\n",
    "\n",
    "> `line_profiler`可以分析每一行代码的执行耗时信息.\n",
    "\n",
    "- 为了使用`line_profiler`,使用`pip install line_profiler`进行安装. 安装成功后可以看到叫做```kernprof```的可执行程序.\n",
    "- 在使用工具测试代码性能的时候, 需要给函数加上`@profile`装饰器.(不需要显示`import`任何模块,`kernprof`会自动注入的)"
   ]
  },
  {
   "cell_type": "code",
   "execution_count": 28,
   "metadata": {},
   "outputs": [
    {
     "name": "stdout",
     "output_type": "stream",
     "text": [
      "Writing slow_app_for_profiler.py\n"
     ]
    }
   ],
   "source": [
    "%%writefile slow_app_for_profiler.py\n",
    "\n",
    "import sys\n",
    "import time\n",
    "\n",
    "@profile\n",
    "def mock_download():\n",
    "    for i in range(5):\n",
    "        time.sleep(1)\n",
    "\n",
    "@profile\n",
    "def mock_database():\n",
    "    for i in range(20):\n",
    "        time.sleep(0.1)\n",
    "\n",
    "\n",
    "@profile\n",
    "def main():\n",
    "    mock_download()\n",
    "    mock_database()\n",
    "\n",
    "if __name__ == \"__main__\":\n",
    "    sys.exit(main())\n"
   ]
  },
  {
   "cell_type": "code",
   "execution_count": 29,
   "metadata": {},
   "outputs": [
    {
     "name": "stdout",
     "output_type": "stream",
     "text": [
      "Requirement already satisfied: line_profiler in /usr/local/lib/python3.6/site-packages\n",
      "Requirement already satisfied: IPython>=0.13 in /usr/local/lib/python3.6/site-packages (from line_profiler)\n",
      "Requirement already satisfied: simplegeneric>0.8 in /usr/local/lib/python3.6/site-packages (from IPython>=0.13->line_profiler)\n",
      "Requirement already satisfied: setuptools>=18.5 in /usr/local/lib/python3.6/site-packages (from IPython>=0.13->line_profiler)\n",
      "Requirement already satisfied: pexpect; sys_platform != \"win32\" in /usr/local/lib/python3.6/site-packages (from IPython>=0.13->line_profiler)\n",
      "Requirement already satisfied: decorator in /root/.local/lib/python3.6/site-packages (from IPython>=0.13->line_profiler)\n",
      "Requirement already satisfied: prompt-toolkit<2.0.0,>=1.0.4 in /usr/local/lib/python3.6/site-packages (from IPython>=0.13->line_profiler)\n",
      "Requirement already satisfied: pickleshare in /usr/local/lib/python3.6/site-packages (from IPython>=0.13->line_profiler)\n",
      "Requirement already satisfied: pygments in /usr/local/lib/python3.6/site-packages (from IPython>=0.13->line_profiler)\n",
      "Requirement already satisfied: traitlets>=4.2 in /usr/local/lib/python3.6/site-packages (from IPython>=0.13->line_profiler)\n",
      "Requirement already satisfied: ptyprocess>=0.5 in /usr/local/lib/python3.6/site-packages (from pexpect; sys_platform != \"win32\"->IPython>=0.13->line_profiler)\n",
      "Requirement already satisfied: six>=1.9.0 in /usr/local/lib/python3.6/site-packages (from prompt-toolkit<2.0.0,>=1.0.4->IPython>=0.13->line_profiler)\n",
      "Requirement already satisfied: wcwidth in /usr/local/lib/python3.6/site-packages (from prompt-toolkit<2.0.0,>=1.0.4->IPython>=0.13->line_profiler)\n",
      "Requirement already satisfied: ipython-genutils in /usr/local/lib/python3.6/site-packages (from traitlets>=4.2->IPython>=0.13->line_profiler)\n"
     ]
    }
   ],
   "source": [
    "!pip install line_profiler"
   ]
  },
  {
   "cell_type": "code",
   "execution_count": 30,
   "metadata": {},
   "outputs": [
    {
     "name": "stdout",
     "output_type": "stream",
     "text": [
      "Wrote profile results to slow_app_for_profiler.py.lprof\r\n",
      "Timer unit: 1e-06 s\r\n",
      "\r\n",
      "Total time: 5.00674 s\r\n",
      "File: slow_app_for_profiler.py\r\n",
      "Function: mock_download at line 5\r\n",
      "\r\n",
      "Line #      Hits         Time  Per Hit   % Time  Line Contents\r\n",
      "==============================================================\r\n",
      "     5                                           @profile\r\n",
      "     6                                           def mock_download():\r\n",
      "     7         6           31      5.2      0.0      for i in range(5):\r\n",
      "     8         5      5006712 1001342.4    100.0          time.sleep(1)\r\n",
      "\r\n",
      "Total time: 2.01799 s\r\n",
      "File: slow_app_for_profiler.py\r\n",
      "Function: mock_database at line 10\r\n",
      "\r\n",
      "Line #      Hits         Time  Per Hit   % Time  Line Contents\r\n",
      "==============================================================\r\n",
      "    10                                           @profile\r\n",
      "    11                                           def mock_database():\r\n",
      "    12        21          226     10.8      0.0      for i in range(20):\r\n",
      "    13        20      2017764 100888.2    100.0          time.sleep(0.1)\r\n",
      "\r\n",
      "Total time: 7.02506 s\r\n",
      "File: slow_app_for_profiler.py\r\n",
      "Function: main at line 16\r\n",
      "\r\n",
      "Line #      Hits         Time  Per Hit   % Time  Line Contents\r\n",
      "==============================================================\r\n",
      "    16                                           @profile\r\n",
      "    17                                           def main():\r\n",
      "    18         1      5006790 5006790.0     71.3      mock_download()\r\n",
      "    19         1      2018268 2018268.0     28.7      mock_database()\r\n",
      "\r\n"
     ]
    }
   ],
   "source": [
    "!kernprof -l -v slow_app_for_profiler.py"
   ]
  },
  {
   "cell_type": "markdown",
   "metadata": {},
   "source": [
    "`-l`选项告诉`kernprof `注入`@profile`到脚本里. `-v`告诉`kernprof`显示执行结果到控制台.\n",
    "\n",
    "- `Line #`:行号.\n",
    "- `Hits`: 这行代码运行次数.\n",
    "- `Time`: 这一行总耗时\n",
    "- `Per Hit`: 本行代码执行一次耗时.\n",
    "- `% Time`:本行耗时占总耗时(函数耗时)百分比.\n",
    "- `Line Contents`: 代码\n",
    "\n",
    "从结果可以很清楚的看到每一行的耗时, 这个对于一般的脚本很方便, 但是对于`django`项目怎么办呢:\n",
    "- 使用`django-devserver`: 这个适合在开发环境发现一些性能问题,但是很多问题在线上才能发现. http://djangotricks.blogspot.com/2015/01/performance-bottlenecks-in-django-views.html\n",
    "- `django-debug-toolbar`:\n",
    "- `yet-another-django-profiler`\n",
    "\n",
    "大概瞄了一眼`django-devserver`使用的是`LineProfiler `,我们可以在代码层面加入`LineProfiler`."
   ]
  },
  {
   "cell_type": "markdown",
   "metadata": {},
   "source": [
    "## [memory_profiler](https://github.com/fabianp/memory_profiler)\n",
    "> `memory_profiler` 分析每一行内存消耗. "
   ]
  },
  {
   "cell_type": "code",
   "execution_count": 26,
   "metadata": {},
   "outputs": [
    {
     "name": "stdout",
     "output_type": "stream",
     "text": [
      "Requirement already satisfied: memory_profiler in /usr/local/lib/python3.6/site-packages\r\n",
      "Requirement already satisfied: psutil in /root/.local/lib/python3.6/site-packages\r\n"
     ]
    }
   ],
   "source": [
    "!pip install  memory_profiler psutil"
   ]
  },
  {
   "cell_type": "code",
   "execution_count": 31,
   "metadata": {},
   "outputs": [
    {
     "name": "stdout",
     "output_type": "stream",
     "text": [
      "Filename: slow_app_for_profiler.py\r\n",
      "\r\n",
      "Line #    Mem usage    Increment   Line Contents\r\n",
      "================================================\r\n",
      "     5   26.695 MiB    0.000 MiB   @profile\r\n",
      "     6                             def mock_download():\r\n",
      "     7   26.695 MiB    0.000 MiB       for i in range(5):\r\n",
      "     8   26.695 MiB    0.000 MiB           time.sleep(1)\r\n",
      "\r\n",
      "\r\n",
      "Filename: slow_app_for_profiler.py\r\n",
      "\r\n",
      "Line #    Mem usage    Increment   Line Contents\r\n",
      "================================================\r\n",
      "    10   26.695 MiB    0.000 MiB   @profile\r\n",
      "    11                             def mock_database():\r\n",
      "    12   26.695 MiB    0.000 MiB       for i in range(20):\r\n",
      "    13   26.695 MiB    0.000 MiB           time.sleep(0.1)\r\n",
      "\r\n",
      "\r\n",
      "Filename: slow_app_for_profiler.py\r\n",
      "\r\n",
      "Line #    Mem usage    Increment   Line Contents\r\n",
      "================================================\r\n",
      "    16   26.695 MiB    0.000 MiB   @profile\r\n",
      "    17                             def main():\r\n",
      "    18   26.695 MiB    0.000 MiB       mock_download()\r\n",
      "    19   26.695 MiB    0.000 MiB       mock_database()\r\n",
      "\r\n",
      "\r\n"
     ]
    }
   ],
   "source": [
    "!python -m memory_profiler slow_app_for_profiler.py"
   ]
  },
  {
   "cell_type": "markdown",
   "metadata": {},
   "source": [
    "## 内存泄露"
   ]
  },
  {
   "cell_type": "markdown",
   "metadata": {
    "collapsed": true
   },
   "source": [
    "## 参考\n",
    "- [python-performance-analysis](https://www.huyng.com/posts/python-performance-analysis)\n"
   ]
  }
 ],
 "metadata": {
  "kernelspec": {
   "display_name": "Python 3",
   "language": "python",
   "name": "python3"
  },
  "language_info": {
   "codemirror_mode": {
    "name": "ipython",
    "version": 3
   },
   "file_extension": ".py",
   "mimetype": "text/x-python",
   "name": "python",
   "nbconvert_exporter": "python",
   "pygments_lexer": "ipython3",
   "version": "3.6.1"
  }
 },
 "nbformat": 4,
 "nbformat_minor": 2
}
