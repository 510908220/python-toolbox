{
 "cells": [
  {
   "cell_type": "markdown",
   "metadata": {
    "deletable": true,
    "editable": true
   },
   "source": [
    "# Pyinstaller 打包\n",
    "\n",
    "[pyinstaller](http://www.pyinstaller.org/) 用来将python 程序打包成一个可执行程序.\n",
    "\n",
    "> 之所以需要打包,主要是为了方便给别人使用. 因为不可能每个人电脑都装有python,而且python版本也可能不一样.  所以打包成一个可执行文件可以更方便使用."
   ]
  },
  {
   "cell_type": "markdown",
   "metadata": {},
   "source": [
    "## 安装\n",
    "\n",
    "windows下需要安装`pywin32`\n",
    "\n",
    "```\n",
    "pip install PyInstaller\n",
    "```\n",
    "\n",
    "\n",
    "## 参数\n",
    "\n",
    "有几个参数需要说明一下:\n",
    "- `-F`: 生成单个可执行文件,会将以来的`dll`等打包进去.\n",
    "- `-w`: 表示去掉控制台窗口，这在GUI界面时非常有用。不过如果是命令行程序的话加上这个选项会有问题.\n",
    "- `-i`: 表示可执行文件的图标\n",
    "- `--clean`: 打包前清除打包产生的一些临时文件. 如果没这个参数的话每次打包前就需要手动清除上一次产生的临时文件(删掉`build`目录等)\n",
    "- `--distpath`:表示打包可执行文件生成的目录,默认是在脚本当前目录(dist里).\n",
    "\n"
   ]
  },
  {
   "cell_type": "markdown",
   "metadata": {
    "collapsed": false,
    "deletable": true,
    "editable": true
   },
   "source": [
    "## 控制台程序打包\n",
    "\n",
    "这里演示的是`Windows`下的打包,`pyinstaller.exe`路径在虚拟环境和非虚拟环境位置是不一样的(平台也有差异)，根据实际进行调整即可.\n"
   ]
  },
  {
   "cell_type": "code",
   "execution_count": null,
   "metadata": {
    "collapsed": true
   },
   "outputs": [],
   "source": [
    "# - *- encoding: utf-8 -*-\n",
    "\n",
    "import os\n",
    "import subprocess\n",
    "import sys\n",
    "\n",
    "cur_dir = os.getcwd()\n",
    "pyinstaller_exe = os.path.join(os.path.dirname(sys.executable), 'pyinstaller.exe')\n",
    "\n",
    "subprocess.check_call(\"{pyinstaller} -F --icon={icon}  --clean {script} --distpath {dist}\".format(\n",
    "    pyinstaller=pyinstaller_exe,\n",
    "    icon=os.path.join(cur_dir, \"ico.ico\"),\n",
    "    script=os.path.join(cur_dir, \"console_demo.py\"),\n",
    "    dist=cur_dir\n",
    "), shell=True, cwd=cur_dir)\n",
    "\n"
   ]
  },
  {
   "cell_type": "markdown",
   "metadata": {},
   "source": [
    "## 界面程序打包\n",
    "\n",
    "注意`-w`选项,不加的话会额外多一个控制台窗口."
   ]
  },
  {
   "cell_type": "code",
   "execution_count": null,
   "metadata": {
    "collapsed": true
   },
   "outputs": [],
   "source": [
    "# - *- encoding: utf-8 -*-\n",
    "\n",
    "import os\n",
    "import subprocess\n",
    "import sys\n",
    "\n",
    "cur_dir = os.getcwd()\n",
    "pyinstaller_exe = os.path.join(os.path.dirname(sys.executable), 'pyinstaller.exe')\n",
    "\n",
    "subprocess.check_call(\"{pyinstaller} -w -F --icon={icon}  --clean {script} --distpath {dist}\".format(\n",
    "    pyinstaller=pyinstaller_exe,\n",
    "    icon=os.path.join(cur_dir, \"ico.ico\"),\n",
    "    script=os.path.join(cur_dir, \"gui_demo.py\"),\n",
    "    dist=cur_dir\n",
    "), shell=True, cwd=cur_dir)\n"
   ]
  }
 ],
 "metadata": {
  "kernelspec": {
   "display_name": "Python 3",
   "language": "python",
   "name": "python3"
  },
  "language_info": {
   "codemirror_mode": {
    "name": "ipython",
    "version": 3
   },
   "file_extension": ".py",
   "mimetype": "text/x-python",
   "name": "python",
   "nbconvert_exporter": "python",
   "pygments_lexer": "ipython3",
   "version": "3.5.2"
  }
 },
 "nbformat": 4,
 "nbformat_minor": 2
}
