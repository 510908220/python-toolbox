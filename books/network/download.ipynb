{
 "cells": [
  {
   "cell_type": "markdown",
   "metadata": {},
   "source": [
    "# 文件下载\n",
    "\n",
    "> 使用`requests`库对文件下载,并显示下载进度.\n",
    "\n",
    "关于进度的显示, 应该是一些文件服务器会返回`content-length`请求头的，这样才能计算出进度. 如果没有这个消息头的话就无法知道正在下载文件的总大小了.\n",
    "\n",
    "- [通用文件下载](#通用文件下载)\n",
    "- [带进度显示文件下载](#带进度显示文件下载)\n"
   ]
  },
  {
   "cell_type": "markdown",
   "metadata": {},
   "source": [
    "## 通用文件下载\n",
    "\n",
    "参考[how-to-download-large-file-in-python-with-requests-py](http://stackoverflow.com/questions/16694907/how-to-download-large-file-in-python-with-requests-py)"
   ]
  },
  {
   "cell_type": "code",
   "execution_count": 10,
   "metadata": {
    "collapsed": false
   },
   "outputs": [
    {
     "name": "stdout",
     "output_type": "stream",
     "text": [
      "283892\n"
     ]
    }
   ],
   "source": [
    "\n",
    "url = \"http://www.meituan.com/api/v1/divisions\" # 美团获取获取已开通城市列表\n",
    "\n",
    "import requests\n",
    "import os\n",
    "def download_file(url, local_file):\n",
    "    # NOTE the stream=True parameter\n",
    "    r = requests.get(url, stream=True)\n",
    "    with open(local_file, 'wb') as f:\n",
    "        for chunk in r.iter_content(chunk_size=1024): \n",
    "            if chunk: # filter out keep-alive new chunks\n",
    "                f.write(chunk)\n",
    "\n",
    "download_file(url, 'divisions')\n",
    "print(os.path.getsize('divisions'))"
   ]
  },
  {
   "cell_type": "markdown",
   "metadata": {},
   "source": [
    "## 带进度显示文件下载"
   ]
  },
  {
   "cell_type": "code",
   "execution_count": 3,
   "metadata": {
    "collapsed": false
   },
   "outputs": [
    {
     "name": "stdout",
     "output_type": "stream",
     "text": [
      "('progress:', 2.393194353557072)\n",
      "('progress:', 4.786388707114144)\n",
      "('progress:', 7.1795830606712165)\n",
      "('progress:', 9.572777414228288)\n",
      "('progress:', 11.96597176778536)\n",
      "('progress:', 14.359166121342433)\n",
      "('progress:', 16.752360474899504)\n",
      "('progress:', 19.145554828456575)\n",
      "('progress:', 21.53874918201365)\n",
      "('progress:', 23.93194353557072)\n",
      "('progress:', 26.32513788912779)\n",
      "('progress:', 28.718332242684866)\n",
      "('progress:', 31.111526596241937)\n",
      "('progress:', 33.50472094979901)\n",
      "('progress:', 35.89791530335608)\n",
      "('progress:', 38.29110965691315)\n",
      "('progress:', 40.68430401047023)\n",
      "('progress:', 43.0774983640273)\n",
      "('progress:', 45.47069271758437)\n",
      "('progress:', 47.86388707114144)\n",
      "('progress:', 50.25708142469851)\n",
      "('progress:', 52.65027577825558)\n",
      "('progress:', 55.043470131812654)\n",
      "('progress:', 57.43666448536973)\n",
      "('progress:', 59.8298588389268)\n",
      "('progress:', 62.223053192483874)\n",
      "('progress:', 64.61624754604095)\n",
      "('progress:', 67.00944189959802)\n",
      "('progress:', 69.4026362531551)\n",
      "('progress:', 71.79583060671216)\n",
      "('progress:', 74.18902496026924)\n",
      "('progress:', 76.5822193138263)\n",
      "('progress:', 78.97541366738338)\n",
      "('progress:', 81.36860802094046)\n",
      "('progress:', 83.76180237449752)\n",
      "('progress:', 86.1549967280546)\n",
      "('progress:', 88.54819108161166)\n",
      "('progress:', 90.94138543516874)\n",
      "('progress:', 93.3345797887258)\n",
      "('progress:', 95.72777414228288)\n",
      "('progress:', 98.12096849583996)\n",
      "('progress:', 100.0)\n"
     ]
    }
   ],
   "source": [
    "import requests\n",
    "import sys\n",
    "\n",
    "url = 'http://archive.ubuntu.com/ubuntu/dists/xenial-updates/main/installer-amd64/current/images/hwe-netboot/pxelinux.0'\n",
    "\n",
    "def download_file_with_progress(url, local_file, chunk_size = 1024):\n",
    "    r = requests.get(url, stream=True)\n",
    "    total_length = r.headers.get('Content-Length')\n",
    "    if not total_length:\n",
    "        with open(local_file, 'wb') as f:\n",
    "            for chunk in r.iter_content(chunk_size=chunk_size): \n",
    "                if chunk: # filter out keep-alive new chunks\n",
    "                    f.write(chunk)\n",
    "        return\n",
    "    \n",
    "    total_length = int(total_length)\n",
    "    received_length = 0\n",
    "    with open(local_file, 'wb') as f:\n",
    "        for chunk in r.iter_content(chunk_size=chunk_size):\n",
    "            received_length += len(chunk)\n",
    "            print('progress:',received_length * 100.0 / total_length)\n",
    "            sys.stdout.flush()\n",
    "            if chunk: # filter out keep-alive new chunks\n",
    "                f.write(chunk)\n",
    "\n",
    "download_file_with_progress(url, 'pxelinux.0')"
   ]
  }
 ],
 "metadata": {
  "kernelspec": {
   "display_name": "Python 2",
   "language": "python",
   "name": "python2"
  },
  "language_info": {
   "codemirror_mode": {
    "name": "ipython",
    "version": 2
   },
   "file_extension": ".py",
   "mimetype": "text/x-python",
   "name": "python",
   "nbconvert_exporter": "python",
   "pygments_lexer": "ipython2",
   "version": "2.7.11"
  }
 },
 "nbformat": 4,
 "nbformat_minor": 0
}
