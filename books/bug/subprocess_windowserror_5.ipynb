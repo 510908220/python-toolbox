{
 "cells": [
  {
   "cell_type": "markdown",
   "metadata": {},
   "source": [
    "# Subprocess  WindowsError 5\n",
    "\n",
    "场景是这样的,有一个`app`目录,里面有一个主程序`main.py`, 主程序会调用`app`目录外的`updater.py`对`app`目录进行升级:\n",
    "- 下载新的包\n",
    "- 重命名`app`为`app_old`\n",
    "- 将新的包拷进来，成为新的`app`目录\n",
    "- 删除`app_old`\n",
    "\n",
    "说明: `main.py`和`updater.py`会使用`pyinstaller`打包成`exe`\n",
    "\n",
    "但是在执行`os.rename`对目录进行重命名时发生错误了:\n",
    "```\n",
    "WindowsError: [Error 5] \n",
    "```\n"
   ]
  },
  {
   "cell_type": "markdown",
   "metadata": {},
   "source": [
    "## 问题模拟"
   ]
  },
  {
   "cell_type": "markdown",
   "metadata": {},
   "source": [
    "#### app/main.py代码\n",
    "\n",
    "主程序代码,启动时会打开一个日志文件. 然后调用`updater.exe`程序.\n"
   ]
  },
  {
   "cell_type": "code",
   "execution_count": null,
   "metadata": {
    "collapsed": true
   },
   "outputs": [],
   "source": [
    "# encoding: utf-8\n",
    "import logging\n",
    "import os\n",
    "import subprocess\n",
    "import sys\n",
    "\n",
    "CUR_DIR = os.path.dirname(os.path.abspath(sys.argv[0]))\n",
    "\n",
    "logging.basicConfig(filename=os.path.join(CUR_DIR, \"app.log\"),\n",
    "                    filemode=\"w\",level=logging.INFO,\n",
    "                    format='%(asctime)s  [%(levelname)s]- %(message)s')\n",
    "UPDATER = os.path.abspath(os.path.join(CUR_DIR, \"..\", \"updater.exe\"))\n",
    "\n",
    "\n",
    "def main():\n",
    "    subprocess.Popen([UPDATER])\n",
    "    sys.exit()\n",
    "\n",
    "\n",
    "if __name__ == \"__main__\":\n",
    "    try:\n",
    "        main()\n",
    "    except Exception as e:\n",
    "        pass\n"
   ]
  },
  {
   "cell_type": "markdown",
   "metadata": {},
   "source": [
    "####  updater.py代码\n",
    "\n",
    "启动后会对`app`目录重命名为`app_old`\n"
   ]
  },
  {
   "cell_type": "code",
   "execution_count": null,
   "metadata": {
    "collapsed": true
   },
   "outputs": [],
   "source": [
    "# -*- encoding: utf-8 -*-\n",
    "import logging\n",
    "import os\n",
    "import sys\n",
    "import zipfile\n",
    "\n",
    "CUR_DIR = os.path.dirname(os.path.abspath(sys.argv[0]))\n",
    "\n",
    "CACHE_DIR = os.path.join(CUR_DIR, \"cache\")\n",
    "NEW_PACKAGE = os.path.join(CUR_DIR, \"app.zip\")\n",
    "\n",
    "logging.basicConfig(filename=os.path.join(CUR_DIR, \"updater.log\"), filemode=\"w\", level=logging.INFO,\n",
    "                    format='%(asctime)s  [%(levelname)s]- %(message)s')\n",
    "\n",
    "\n",
    "def update_files():\n",
    "    logging.info(u\"删除缓存目录:%s\", CACHE_DIR)\n",
    "    with zipfile.ZipFile(NEW_PACKAGE) as zip:\n",
    "        zip.extractall(CACHE_DIR)\n",
    "    \n",
    "    app_cache_dir = os.path.join(CUR_DIR, \"cache\", \"app\")\n",
    "    app_dir = os.path.join(CUR_DIR, \"app\")\n",
    "    app_old_dir = os.path.join(CUR_DIR, \"old_app\")\n",
    "    logging.info(u\"替换目录%s 为 %s\", app_dir, app_old_dir)\n",
    "    os.rename(app_dir, app_old_dir)\n",
    "\n",
    "\n",
    "if __name__ == \"__main__\":\n",
    "    \n",
    "    try:\n",
    "        update_files()\n",
    "    \n",
    "    except Exception as e:\n",
    "        logging.exception(e)\n"
   ]
  },
  {
   "cell_type": "markdown",
   "metadata": {},
   "source": [
    "#### build.py 代码\n",
    "\n",
    "- 将`main.py`打包成`exe`并复制到`main.py`相同的目录\n",
    "- 将`updater`打包成`exe`并复制到`updater.py`相同目录\n",
    "\n",
    "注意: 需要安装`pyinstaller`\n"
   ]
  },
  {
   "cell_type": "code",
   "execution_count": null,
   "metadata": {
    "collapsed": true
   },
   "outputs": [],
   "source": [
    "\n",
    "\n",
    "import os\n",
    "import shutil\n",
    "import subprocess\n",
    "\n",
    "CUR_DIR = os.path.abspath(os.path.dirname(__file__))\n",
    "\n",
    "APP_DIR = os.path.join(CUR_DIR, \"app\")\n",
    "\n",
    "pyinstaller_exe = r\"C:\\Python27\\Scripts\\pyinstaller.exe\"\n",
    "\n",
    "try:\n",
    "    shutil.rmtree(os.path.join(CUR_DIR, \"build\"))\n",
    "    shutil.rmtree(os.path.join(CUR_DIR, \"dist\"))\n",
    "except:\n",
    "    pass\n",
    "subprocess.check_call(\"{pyinstaller} -w -F --onefile  --clean {script}\".format(\n",
    "    pyinstaller=pyinstaller_exe,\n",
    "    script=os.path.join(CUR_DIR, \"updater.py\")\n",
    "), shell=True, cwd=CUR_DIR)\n",
    "\n",
    "shutil.copy(os.path.join(CUR_DIR, \"dist\", \"updater.exe\"),\n",
    "                CUR_DIR)\n",
    "\n",
    "try:\n",
    "    shutil.rmtree(os.path.join(APP_DIR, \"build\"))\n",
    "    shutil.rmtree(os.path.join(APP_DIR, \"dist\"))\n",
    "except:\n",
    "    pass\n",
    "subprocess.check_call(\"{pyinstaller} -w -F --onefile  --clean {script}\".format(\n",
    "    pyinstaller=pyinstaller_exe,\n",
    "    script=os.path.join(APP_DIR, \"main.py\")\n",
    "), shell=True, cwd=APP_DIR)\n",
    "\n",
    "shutil.copy(os.path.join(APP_DIR, \"dist\", \"main.exe\"),\n",
    "                APP_DIR)\n"
   ]
  },
  {
   "cell_type": "markdown",
   "metadata": {},
   "source": [
    "## 结果\n",
    "\n",
    "```\n",
    "2017-03-24 17:47:13,496  [ERROR]- [Error 5] \n",
    "Traceback (most recent call last):\n",
    "  File \"books\\bug\\subprocess_windowserror_5\\updater.py\", line 31, in <module>\n",
    "  File \"books\\bug\\subprocess_windowserror_5\\updater.py\", line 25, in update_files\n",
    "WindowsError: [Error 5] \n",
    "```"
   ]
  },
  {
   "cell_type": "markdown",
   "metadata": {},
   "source": [
    "## 问题分析"
   ]
  },
  {
   "cell_type": "code",
   "execution_count": null,
   "metadata": {
    "collapsed": true
   },
   "outputs": [],
   "source": []
  },
  {
   "cell_type": "code",
   "execution_count": null,
   "metadata": {
    "collapsed": true
   },
   "outputs": [],
   "source": []
  },
  {
   "cell_type": "code",
   "execution_count": null,
   "metadata": {
    "collapsed": true
   },
   "outputs": [],
   "source": []
  },
  {
   "cell_type": "code",
   "execution_count": null,
   "metadata": {
    "collapsed": true
   },
   "outputs": [],
   "source": []
  },
  {
   "cell_type": "code",
   "execution_count": null,
   "metadata": {
    "collapsed": true
   },
   "outputs": [],
   "source": []
  },
  {
   "cell_type": "code",
   "execution_count": null,
   "metadata": {
    "collapsed": true
   },
   "outputs": [],
   "source": []
  },
  {
   "cell_type": "code",
   "execution_count": null,
   "metadata": {
    "collapsed": true
   },
   "outputs": [],
   "source": []
  }
 ],
 "metadata": {
  "kernelspec": {
   "display_name": "Python 3",
   "language": "python",
   "name": "python3"
  },
  "language_info": {
   "codemirror_mode": {
    "name": "ipython",
    "version": 3
   },
   "file_extension": ".py",
   "mimetype": "text/x-python",
   "name": "python",
   "nbconvert_exporter": "python",
   "pygments_lexer": "ipython3",
   "version": "3.6.0"
  }
 },
 "nbformat": 4,
 "nbformat_minor": 0
}
