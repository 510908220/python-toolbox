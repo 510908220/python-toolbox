{
 "cells": [
  {
   "cell_type": "markdown",
   "metadata": {
    "deletable": true,
    "editable": true
   },
   "source": [
    "# Subprocess  WindowsError 5\n",
    "\n",
    "场景是这样的,有一个`app`目录,里面有一个主程序`main.py`, 主程序会调用`app`目录外的`updater.py`对`app`目录进行升级:\n",
    "- 下载新的包\n",
    "- 重命名`app`为`app_old`\n",
    "- 将新的包拷进来，成为新的`app`目录\n",
    "- 删除`app_old`\n",
    "\n",
    "**说明: `main.py`和`updater.py`会使用`pyinstaller`打包成`exe`**\n",
    "\n",
    "但是在执行`os.rename`对目录进行重命名时发生错误了:\n",
    "```\n",
    "WindowsError: [Error 5] \n",
    "```\n"
   ]
  },
  {
   "cell_type": "markdown",
   "metadata": {
    "deletable": true,
    "editable": true
   },
   "source": [
    "## 问题模拟"
   ]
  },
  {
   "cell_type": "markdown",
   "metadata": {
    "deletable": true,
    "editable": true
   },
   "source": [
    "#### app/main.py代码\n",
    "\n",
    "主程序代码,启动时会打开一个日志文件. 然后调用`updater.exe`程序.\n"
   ]
  },
  {
   "cell_type": "code",
   "execution_count": null,
   "metadata": {
    "collapsed": true,
    "deletable": true,
    "editable": true
   },
   "outputs": [],
   "source": [
    "# encoding: utf-8\n",
    "import logging\n",
    "import os\n",
    "import subprocess\n",
    "import sys\n",
    "\n",
    "CUR_DIR = os.path.dirname(os.path.abspath(sys.argv[0]))\n",
    "\n",
    "logging.basicConfig(filename=os.path.join(CUR_DIR, \"app.log\"),\n",
    "                    filemode=\"w\",level=logging.INFO,\n",
    "                    format='%(asctime)s  [%(levelname)s]- %(message)s')\n",
    "UPDATER = os.path.abspath(os.path.join(CUR_DIR, \"..\", \"updater.exe\"))\n",
    "\n",
    "\n",
    "def main():\n",
    "    subprocess.Popen([UPDATER])\n",
    "    sys.exit()\n",
    "\n",
    "\n",
    "if __name__ == \"__main__\":\n",
    "    try:\n",
    "        main()\n",
    "    except Exception as e:\n",
    "        pass\n"
   ]
  },
  {
   "cell_type": "markdown",
   "metadata": {
    "deletable": true,
    "editable": true
   },
   "source": [
    "####  updater.py代码\n",
    "\n",
    "启动后会对`app`目录重命名为`app_old`\n"
   ]
  },
  {
   "cell_type": "code",
   "execution_count": null,
   "metadata": {
    "collapsed": true,
    "deletable": true,
    "editable": true
   },
   "outputs": [],
   "source": [
    "# -*- encoding: utf-8 -*-\n",
    "import logging\n",
    "import os\n",
    "import sys\n",
    "import zipfile\n",
    "\n",
    "CUR_DIR = os.path.dirname(os.path.abspath(sys.argv[0]))\n",
    "\n",
    "CACHE_DIR = os.path.join(CUR_DIR, \"cache\")\n",
    "NEW_PACKAGE = os.path.join(CUR_DIR, \"app.zip\")\n",
    "\n",
    "logging.basicConfig(filename=os.path.join(CUR_DIR, \"updater.log\"), filemode=\"w\", level=logging.INFO,\n",
    "                    format='%(asctime)s  [%(levelname)s]- %(message)s')\n",
    "\n",
    "\n",
    "def update_files():\n",
    "    logging.info(u\"删除缓存目录:%s\", CACHE_DIR)\n",
    "    with zipfile.ZipFile(NEW_PACKAGE) as zip:\n",
    "        zip.extractall(CACHE_DIR)\n",
    "    \n",
    "    app_cache_dir = os.path.join(CUR_DIR, \"cache\", \"app\")\n",
    "    app_dir = os.path.join(CUR_DIR, \"app\")\n",
    "    app_old_dir = os.path.join(CUR_DIR, \"old_app\")\n",
    "    logging.info(u\"替换目录%s 为 %s\", app_dir, app_old_dir)\n",
    "    os.rename(app_dir, app_old_dir)\n",
    "\n",
    "\n",
    "if __name__ == \"__main__\":\n",
    "    \n",
    "    try:\n",
    "        update_files()\n",
    "    \n",
    "    except Exception as e:\n",
    "        logging.exception(e)\n"
   ]
  },
  {
   "cell_type": "markdown",
   "metadata": {
    "deletable": true,
    "editable": true
   },
   "source": [
    "#### build.py 代码\n",
    "\n",
    "- 将`main.py`打包成`exe`并复制到`main.py`相同的目录\n",
    "- 将`updater`打包成`exe`并复制到`updater.py`相同目录\n",
    "\n",
    "注意: 需要安装`pyinstaller`\n"
   ]
  },
  {
   "cell_type": "code",
   "execution_count": null,
   "metadata": {
    "collapsed": true,
    "deletable": true,
    "editable": true
   },
   "outputs": [],
   "source": [
    "\n",
    "import sys\n",
    "import os\n",
    "import shutil\n",
    "import subprocess\n",
    "\n",
    "CUR_DIR = os.path.abspath(os.path.dirname(__file__))\n",
    "\n",
    "APP_DIR = os.path.join(CUR_DIR, \"app\")\n",
    "\n",
    "pyinstaller_exe = os.path.join(os.path.dirname(sys.executable) ,\"Scripts\", \"pyinstaller.exe\")\n",
    "\n",
    "try:\n",
    "    shutil.rmtree(os.path.join(CUR_DIR, \"build\"))\n",
    "    shutil.rmtree(os.path.join(CUR_DIR, \"dist\"))\n",
    "except:\n",
    "    pass\n",
    "subprocess.check_call(\"{pyinstaller} -w -F --onefile  --clean {script}\".format(\n",
    "    pyinstaller=pyinstaller_exe,\n",
    "    script=os.path.join(CUR_DIR, \"updater.py\")\n",
    "), shell=True, cwd=CUR_DIR)\n",
    "\n",
    "shutil.copy(os.path.join(CUR_DIR, \"dist\", \"updater.exe\"),\n",
    "                CUR_DIR)\n",
    "\n",
    "try:\n",
    "    shutil.rmtree(os.path.join(APP_DIR, \"build\"))\n",
    "    shutil.rmtree(os.path.join(APP_DIR, \"dist\"))\n",
    "except:\n",
    "    pass\n",
    "subprocess.check_call(\"{pyinstaller} -w -F --onefile  --clean {script}\".format(\n",
    "    pyinstaller=pyinstaller_exe,\n",
    "    script=os.path.join(APP_DIR, \"main.py\")\n",
    "), shell=True, cwd=APP_DIR)\n",
    "\n",
    "shutil.copy(os.path.join(APP_DIR, \"dist\", \"main.exe\"),\n",
    "                APP_DIR)\n"
   ]
  },
  {
   "cell_type": "markdown",
   "metadata": {
    "deletable": true,
    "editable": true
   },
   "source": [
    "## 结果\n",
    "\n",
    "```\n",
    "2017-03-24 17:47:13,496  [ERROR]- [Error 5] \n",
    "Traceback (most recent call last):\n",
    "  File \"books\\bug\\subprocess_windowserror_5\\updater.py\", line 31, in <module>\n",
    "  File \"books\\bug\\subprocess_windowserror_5\\updater.py\", line 25, in update_files\n",
    "WindowsError: [Error 5] \n",
    "```"
   ]
  },
  {
   "cell_type": "markdown",
   "metadata": {
    "deletable": true,
    "editable": true
   },
   "source": [
    "## 问题分析\n",
    "\n",
    "没打包为`exe`前，代码运行正常。但是打包成`exe`后, 就出现`Error 5`了。看一下这句:\n",
    "```python\n",
    "def main():\n",
    "    subprocess.Popen([UPDATER])\n",
    "    sys.exit()\n",
    "```\n",
    "主程序启动升级程序后就退出了,为什么还会出现`Error 5`呢，google上找了半天说什么权限、是否是管理员等问题，可是打包前都是正常的。问题到底出在哪里呢？ 难道是`main.exe`里日志文件被占用，但是程序是退出了的啊。我就下载了个[Process Explorer](https://technet.microsoft.com/en-us/sysinternals/bb896653/)尝试看一下日志文件是否被占用:\n",
    "\n",
    "打开`Process Explorer`,如图:\n",
    "![](subprocess_windowserror_5/images/process_exporer.png)\n",
    "\n",
    "点击那个望远镜图标打开查找界面:\n",
    "![](subprocess_windowserror_5/images/process_exporer_find.png)\n",
    "\n",
    "输入`app.log`,竟然看到`updater.exe`进程占用着`app.log`文件，这时才恍然大悟: **原来windows程序子进程会进程父进程的句柄,导致`updater.exe`还持有父进程的`app.log`文件句柄.**"
   ]
  },
  {
   "cell_type": "markdown",
   "metadata": {
    "collapsed": true,
    "deletable": true,
    "editable": true
   },
   "source": [
    "## 问题解决\n",
    "\n",
    "> 可以在启动升级进程钱关闭主进程的日志文件.\n",
    "\n",
    "\n",
    "```python\n",
    "def main():\n",
    "    subprocess.Popen([UPDATER])\n",
    "    sys.exit()\n",
    "```   \n",
    "改为\n",
    "\n",
    "```python\n",
    "def main():\n",
    "    logger = logging.getLogger()\n",
    "    handlers = logger.handlers[:]\n",
    "    for handler in handlers:\n",
    "        handler.close()\n",
    "        logger.removeHandler(handler)\n",
    "    subprocess.Popen([UPDATER])\n",
    "    sys.exit()\n",
    "```"
   ]
  }
 ],
 "metadata": {
  "kernelspec": {
   "display_name": "Python 3",
   "language": "python",
   "name": "python3"
  },
  "language_info": {
   "codemirror_mode": {
    "name": "ipython",
    "version": 3
   },
   "file_extension": ".py",
   "mimetype": "text/x-python",
   "name": "python",
   "nbconvert_exporter": "python",
   "pygments_lexer": "ipython3",
   "version": "3.6.1"
  }
 },
 "nbformat": 4,
 "nbformat_minor": 0
}
