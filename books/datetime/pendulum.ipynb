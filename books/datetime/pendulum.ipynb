{
 "cells": [
  {
   "cell_type": "markdown",
   "metadata": {
    "deletable": true,
    "editable": true
   },
   "source": [
    "# pendulum使用整理\n",
    "\n",
    "[pendulum](https://github.com/sdispater/pendulum)使的操作时间变得更简单. 下面参照官网列举一些常见的操作,整的很简单的哦!\n",
    "\n",
    "官网也介绍了` pendulum`在`sqlite3`、`mysqlclient`、`django`使用需要的设置,日常开发绝对够了"
   ]
  },
  {
   "cell_type": "markdown",
   "metadata": {
    "deletable": true,
    "editable": true
   },
   "source": [
    "## 安装"
   ]
  },
  {
   "cell_type": "code",
   "execution_count": 1,
   "metadata": {
    "collapsed": false,
    "deletable": true,
    "editable": true
   },
   "outputs": [
    {
     "name": "stdout",
     "output_type": "stream",
     "text": [
      "Requirement already satisfied: pendulum in c:\\users\\administrator\\appdata\\local\\programs\\python\\python36-32\\lib\\site-packages\n",
      "Requirement already satisfied: tzlocal in c:\\users\\administrator\\appdata\\local\\programs\\python\\python36-32\\lib\\site-packages (from pendulum)\n",
      "Requirement already satisfied: python-dateutil in c:\\users\\administrator\\appdata\\local\\programs\\python\\python36-32\\lib\\site-packages (from pendulum)\n",
      "Requirement already satisfied: pytzdata in c:\\users\\administrator\\appdata\\local\\programs\\python\\python36-32\\lib\\site-packages (from pendulum)\n",
      "Requirement already satisfied: pytz in c:\\users\\administrator\\appdata\\local\\programs\\python\\python36-32\\lib\\site-packages (from tzlocal->pendulum)\n",
      "Requirement already satisfied: six>=1.5 in c:\\users\\administrator\\appdata\\local\\programs\\python\\python36-32\\lib\\site-packages (from python-dateutil->pendulum)\n"
     ]
    }
   ],
   "source": [
    "!pip install pendulum"
   ]
  },
  {
   "cell_type": "markdown",
   "metadata": {
    "deletable": true,
    "editable": true
   },
   "source": [
    "## 基本使用\n",
    "\n",
    "> 只有`now()`使用的本地时区,其他方法都是使用的`UTC`"
   ]
  },
  {
   "cell_type": "code",
   "execution_count": 11,
   "metadata": {
    "collapsed": false,
    "deletable": true,
    "editable": true
   },
   "outputs": [
    {
     "name": "stdout",
     "output_type": "stream",
     "text": [
      "当前时间: 2017-05-27T16:44:16.237474+08:00\n",
      "巴黎时间: 2017-05-27T10:44:16.237474+02:00\n",
      "当前时间转UTC时间: 2017-05-27T08:44:16.237474+00:00\n"
     ]
    }
   ],
   "source": [
    "# 当前时间的获取\n",
    "import pendulum\n",
    "now = pendulum.now()# 当前时间\n",
    "print(\"当前时间:\",now)\n",
    "\n",
    "now_in_paris = pendulum.now('Europe/Paris')\n",
    "print(\"巴黎时间:\",now_in_paris)\n",
    "\n",
    "print(\"当前时间转UTC时间:\", now.in_timezone('UTC'))"
   ]
  },
  {
   "cell_type": "code",
   "execution_count": 22,
   "metadata": {
    "collapsed": false,
    "deletable": true,
    "editable": true
   },
   "outputs": [
    {
     "name": "stdout",
     "output_type": "stream",
     "text": [
      "5.4青年节: 2017-05-04T00:00:00+08:00\n"
     ]
    }
   ],
   "source": [
    "now = pendulum.create(2017, 5, 4, 0, 0, 0, 0, 'Asia/Shanghai')\n",
    "print(\"5.4青年节:\", now)"
   ]
  },
  {
   "cell_type": "markdown",
   "metadata": {
    "deletable": true,
    "editable": true
   },
   "source": [
    "## 日期计算"
   ]
  },
  {
   "cell_type": "code",
   "execution_count": 30,
   "metadata": {
    "collapsed": false,
    "deletable": true,
    "editable": true
   },
   "outputs": [
    {
     "name": "stdout",
     "output_type": "stream",
     "text": [
      "今天: 2017-05-27T17:00:39.052688+08:00\n",
      "明天: 2017-05-28T17:00:39.052688+08:00\n",
      "上周: 2017-05-20T17:00:39.052688+08:00\n",
      "哇,周末了!\n",
      "今天距离上周: 7 天\n",
      "上周到今天每一天:\n",
      "day: 2017-05-20T17:00:39.052688+08:00\n",
      "day: 2017-05-21T17:00:39.052688+08:00\n",
      "day: 2017-05-22T17:00:39.052688+08:00\n",
      "day: 2017-05-23T17:00:39.052688+08:00\n",
      "day: 2017-05-24T17:00:39.052688+08:00\n",
      "day: 2017-05-25T17:00:39.052688+08:00\n",
      "day: 2017-05-26T17:00:39.052688+08:00\n",
      "day: 2017-05-27T17:00:39.052688+08:00\n"
     ]
    }
   ],
   "source": [
    "import pendulum\n",
    "now = pendulum.now() # 今天\n",
    "tomorrow = now.add(days = 1) # 明天\n",
    "last_week = now.subtract(weeks=1) # 上周\n",
    "\n",
    "print(\"今天:\",now)\n",
    "print(\"明天:\",tomorrow)\n",
    "print(\"上周:\",last_week)\n",
    "\n",
    "if now.is_weekend():\n",
    "    print(\"哇,周末了!\")\n",
    "\n",
    "delta = now - last_week\n",
    "print(\"今天距离上周:\", delta.days, \"天\")\n",
    "\n",
    "print(\"上周到今天每一天:\")\n",
    "for day in delta:\n",
    "    print(\"day:\", day)"
   ]
  },
  {
   "cell_type": "markdown",
   "metadata": {
    "deletable": true,
    "editable": true
   },
   "source": [
    "## 日期转换\n",
    "> 支持各种格式. 包括`星期日历表示法`,可以查看一下[ISO_8601](https://zh.wikipedia.org/wiki/ISO_8601)"
   ]
  },
  {
   "cell_type": "code",
   "execution_count": 25,
   "metadata": {
    "collapsed": false,
    "deletable": true,
    "editable": true
   },
   "outputs": [
    {
     "data": {
      "text/plain": [
       "<Pendulum [2017-05-01T00:00:00+00:00]>"
      ]
     },
     "execution_count": 25,
     "metadata": {},
     "output_type": "execute_result"
    }
   ],
   "source": [
    "import pendulum\n",
    "pendulum.parse('2017-5-1')"
   ]
  },
  {
   "cell_type": "code",
   "execution_count": 26,
   "metadata": {
    "collapsed": false,
    "deletable": true,
    "editable": true
   },
   "outputs": [
    {
     "data": {
      "text/plain": [
       "<Pendulum [2016-04-13T00:00:00+00:00]>"
      ]
     },
     "execution_count": 26,
     "metadata": {},
     "output_type": "execute_result"
    }
   ],
   "source": [
    "pendulum.parse('20160413')"
   ]
  },
  {
   "cell_type": "code",
   "execution_count": 27,
   "metadata": {
    "collapsed": false,
    "deletable": true,
    "editable": true
   },
   "outputs": [
    {
     "data": {
      "text/plain": [
       "<Pendulum [2016-02-19T00:00:00+00:00]>"
      ]
     },
     "execution_count": 27,
     "metadata": {},
     "output_type": "execute_result"
    }
   ],
   "source": [
    "pendulum.parse('2016-W07-5')"
   ]
  },
  {
   "cell_type": "markdown",
   "metadata": {
    "deletable": true,
    "editable": true
   },
   "source": [
    "## 时间间隔"
   ]
  },
  {
   "cell_type": "code",
   "execution_count": 36,
   "metadata": {
    "collapsed": false,
    "deletable": true,
    "editable": true
   },
   "outputs": [
    {
     "name": "stdout",
     "output_type": "stream",
     "text": [
      "2 15 0\n",
      "360\n"
     ]
    }
   ],
   "source": [
    "# Interval\n",
    "\n",
    "it = pendulum.interval(days=15)\n",
    "print(it.weeks,it.days,it.hours) \n",
    "print(it.in_hours()) # 以小时表示间隔"
   ]
  },
  {
   "cell_type": "code",
   "execution_count": 52,
   "metadata": {
    "collapsed": false,
    "deletable": true,
    "editable": true
   },
   "outputs": [
    {
     "name": "stdout",
     "output_type": "stream",
     "text": [
      "日期相差: 72 小时\n",
      "日期相差(日期之间包含的工作日): 2 天\n",
      "日期相差(日期之间包含的周末): 2 天\n",
      "2017-05-27T18:28:37.427593+08:00\n",
      "2017-05-28T18:28:37.427593+08:00\n",
      "2017-05-29T18:28:37.427593+08:00\n",
      "2017-05-30T18:28:37.427593+08:00\n"
     ]
    }
   ],
   "source": [
    "# Period 是 Interval的 特例\n",
    "\n",
    "dt1 = pendulum.now()\n",
    "dt2 = dt1.add(days=3)\n",
    "# A period is the difference between 2 instances\n",
    "period = dt2 - dt1\n",
    "print(\"日期相差:\",period.in_hours(),\"小时\")\n",
    "print(\"日期相差(日期之间包含的工作日):\",period.in_weekdays(),\"天\")\n",
    "print(\"日期相差(日期之间包含的周末):\",period.in_weekend_days(),\"天\")\n",
    "\n",
    "# A period is iterable\n",
    "for dt in period:\n",
    "    print(dt)"
   ]
  },
  {
   "cell_type": "markdown",
   "metadata": {},
   "source": [
    "## 时间戳"
   ]
  },
  {
   "cell_type": "code",
   "execution_count": 4,
   "metadata": {
    "collapsed": false
   },
   "outputs": [
    {
     "name": "stdout",
     "output_type": "stream",
     "text": [
      "2016-10-27 06:05:06\n",
      "2016-10-27 14:05:06\n"
     ]
    }
   ],
   "source": [
    "import pendulum\n",
    "print(pendulum.from_timestamp(1477548306).to_datetime_string())\n",
    "print(pendulum.from_timestamp(1477548306, 'Asia/Shanghai').to_datetime_string())"
   ]
  }
 ],
 "metadata": {
  "kernelspec": {
   "display_name": "Python 3",
   "language": "python",
   "name": "python3"
  },
  "language_info": {
   "codemirror_mode": {
    "name": "ipython",
    "version": 3
   },
   "file_extension": ".py",
   "mimetype": "text/x-python",
   "name": "python",
   "nbconvert_exporter": "python",
   "pygments_lexer": "ipython3",
   "version": "3.6.0"
  }
 },
 "nbformat": 4,
 "nbformat_minor": 2
}
